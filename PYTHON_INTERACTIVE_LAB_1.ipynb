{
  "nbformat": 4,
  "nbformat_minor": 0,
  "metadata": {
    "colab": {
      "provenance": [],
      "authorship_tag": "ABX9TyO2SxRzbbgZE2qpcQb59Ns5",
      "include_colab_link": true
    },
    "kernelspec": {
      "name": "python3",
      "display_name": "Python 3"
    },
    "language_info": {
      "name": "python"
    }
  },
  "cells": [
    {
      "cell_type": "markdown",
      "metadata": {
        "id": "view-in-github",
        "colab_type": "text"
      },
      "source": [
        "<a href=\"https://colab.research.google.com/github/PANYAMLIKITHA/PYTHON-INTERACTIVE-LAB-03-09-24/blob/main/PYTHON_INTERACTIVE_LAB_1.ipynb\" target=\"_parent\"><img src=\"https://colab.research.google.com/assets/colab-badge.svg\" alt=\"Open In Colab\"/></a>"
      ]
    },
    {
      "cell_type": "markdown",
      "source": [
        "code  to  print  all  the  keywords  present  in  python"
      ],
      "metadata": {
        "id": "qpyHa7aALdsR"
      }
    },
    {
      "cell_type": "code",
      "execution_count": null,
      "metadata": {
        "colab": {
          "base_uri": "https://localhost:8080/"
        },
        "id": "xauwAxLoKmp6",
        "outputId": "9513bf61-c9c0-404a-9490-6a11d5fd2e4b"
      },
      "outputs": [
        {
          "output_type": "stream",
          "name": "stdout",
          "text": [
            "['False', 'None', 'True', 'and', 'as', 'assert', 'async', 'await', 'break', 'class', 'continue', 'def', 'del', 'elif', 'else', 'except', 'finally', 'for', 'from', 'global', 'if', 'import', 'in', 'is', 'lambda', 'nonlocal', 'not', 'or', 'pass', 'raise', 'return', 'try', 'while', 'with', 'yield']\n",
            "35\n"
          ]
        }
      ],
      "source": [
        "import  keyword\n",
        "print(keyword.kwlist)\n",
        "a=len(keyword.kwlist)\n",
        "print(a)"
      ]
    },
    {
      "cell_type": "markdown",
      "source": [
        " multi line comment"
      ],
      "metadata": {
        "id": "pTeCjdTLLhYR"
      }
    },
    {
      "cell_type": "code",
      "source": [
        "print('multi line comment(specified using doc sring)')"
      ],
      "metadata": {
        "colab": {
          "base_uri": "https://localhost:8080/"
        },
        "id": "Z5rBnLMOLgyI",
        "outputId": "221e6a59-65ee-4a1e-af9e-8a8ca1735e90"
      },
      "execution_count": null,
      "outputs": [
        {
          "output_type": "stream",
          "name": "stdout",
          "text": [
            "multi line comment(specified using doc sring)\n"
          ]
        }
      ]
    },
    {
      "cell_type": "markdown",
      "source": [
        "single line comment"
      ],
      "metadata": {
        "id": "6peOjmnwMD55"
      }
    },
    {
      "cell_type": "code",
      "source": [
        "print('single line comment(specified using single or double quotes). ')"
      ],
      "metadata": {
        "colab": {
          "base_uri": "https://localhost:8080/"
        },
        "id": "L_q9dfQPMEQh",
        "outputId": "77798e79-48c0-4da4-e43a-7e7c91f19d7d"
      },
      "execution_count": null,
      "outputs": [
        {
          "output_type": "stream",
          "name": "stdout",
          "text": [
            "single line comment(specified using single or double quotes). \n"
          ]
        }
      ]
    },
    {
      "cell_type": "markdown",
      "source": [
        "Varaible can take any data type such as integer,float numbers,strings etc."
      ],
      "metadata": {
        "id": "C-g6FZ_OMZVI"
      }
    },
    {
      "cell_type": "code",
      "source": [
        "#here  3  variables  have  been  created  and  stored  the  values  as  shown  below\n",
        "a=9\n",
        "b=24\n",
        "c=a+b\n",
        "print(c)"
      ],
      "metadata": {
        "colab": {
          "base_uri": "https://localhost:8080/"
        },
        "id": "ypuJz7X0MQO4",
        "outputId": "6482ec91-6fea-4865-88a2-cf1a32b25e54"
      },
      "execution_count": null,
      "outputs": [
        {
          "output_type": "stream",
          "name": "stdout",
          "text": [
            "33\n"
          ]
        }
      ]
    },
    {
      "cell_type": "markdown",
      "source": [
        "2  on  strings"
      ],
      "metadata": {
        "id": "u-Xql5GOMlmQ"
      }
    },
    {
      "cell_type": "code",
      "source": [
        "x='Based on the data types the interpreter allocates the memory.'\n",
        "x"
      ],
      "metadata": {
        "colab": {
          "base_uri": "https://localhost:8080/",
          "height": 35
        },
        "id": "adZpFNCbMrn4",
        "outputId": "2ac8e4c1-f2e0-4608-ffe9-7bc92cd743fa"
      },
      "execution_count": null,
      "outputs": [
        {
          "output_type": "execute_result",
          "data": {
            "text/plain": [
              "'hellBased on the data types the interpreter allocates the memory.'"
            ],
            "application/vnd.google.colaboratory.intrinsic+json": {
              "type": "string"
            }
          },
          "metadata": {},
          "execution_count": 8
        }
      ]
    },
    {
      "cell_type": "markdown",
      "source": [
        " LISTS IN PYTHON(enclosed within [] and separated by commas(,).\n",
        "1.list is sequence of values called items or elements.\n",
        "2.list is similar arrays.\n",
        "3.list mutable.)"
      ],
      "metadata": {
        "id": "GtWYWWuuM5Mp"
      }
    },
    {
      "cell_type": "code",
      "source": [
        "a=([6,7,1,4,8])\n",
        "b=([6.4,7.7,6.8])\n",
        "c=(['HELLO','FRIENDS'])\n",
        "print(a)\n",
        "print(b)\n",
        "print(c)"
      ],
      "metadata": {
        "colab": {
          "base_uri": "https://localhost:8080/"
        },
        "id": "ykZlPUunM46g",
        "outputId": "bf2bf958-a02c-4e5b-e1cd-e5edec70c8a9"
      },
      "execution_count": null,
      "outputs": [
        {
          "output_type": "stream",
          "name": "stdout",
          "text": [
            "[6, 7, 1, 4, 8]\n",
            "[6.4, 7.7, 6.8]\n",
            "['HELLO', 'FRIENDS']\n"
          ]
        }
      ]
    },
    {
      "cell_type": "code",
      "source": [
        "type(a)"
      ],
      "metadata": {
        "colab": {
          "base_uri": "https://localhost:8080/"
        },
        "id": "ry-pJdT4NiHx",
        "outputId": "5d22818a-ca5b-4353-8565-d65a899f56c4"
      },
      "execution_count": null,
      "outputs": [
        {
          "output_type": "execute_result",
          "data": {
            "text/plain": [
              "list"
            ]
          },
          "metadata": {},
          "execution_count": 12
        }
      ]
    },
    {
      "cell_type": "markdown",
      "source": [
        "list  with  heterogenous  data"
      ],
      "metadata": {
        "id": "q_J4tLCuNp0p"
      }
    },
    {
      "cell_type": "code",
      "source": [
        "\n",
        "a=(['LIKITHA',8,0,20.77])\n",
        "a"
      ],
      "metadata": {
        "colab": {
          "base_uri": "https://localhost:8080/"
        },
        "id": "GYd8n1q3NvDi",
        "outputId": "d5fae94e-435b-4716-a10b-7fd972541eaf"
      },
      "execution_count": null,
      "outputs": [
        {
          "output_type": "execute_result",
          "data": {
            "text/plain": [
              "['LIKITHA', 8, 0, 20.77]"
            ]
          },
          "metadata": {},
          "execution_count": 13
        }
      ]
    },
    {
      "cell_type": "markdown",
      "source": [
        "list  using with the range  function"
      ],
      "metadata": {
        "id": "D-7yQs8MN18c"
      }
    },
    {
      "cell_type": "code",
      "source": [
        "A=list(range(0,5))\n",
        "print(A)"
      ],
      "metadata": {
        "colab": {
          "base_uri": "https://localhost:8080/"
        },
        "id": "q4uuOgebN-S8",
        "outputId": "07f4bebb-e73e-4087-f484-aa354357e6e1"
      },
      "execution_count": null,
      "outputs": [
        {
          "output_type": "stream",
          "name": "stdout",
          "text": [
            "[0, 1, 2, 3, 4]\n"
          ]
        }
      ]
    },
    {
      "cell_type": "markdown",
      "source": [
        "  a  list  without  constructor(): In Python, a constructor is a special method called __init__ that is automatically executed when an object of a class is created"
      ],
      "metadata": {
        "id": "3z-0-NHdONKQ"
      }
    },
    {
      "cell_type": "code",
      "source": [
        "\n",
        "days=['monday','tuesday','wednesday','thursday','friday','saturday','sunday']\n",
        "days"
      ],
      "metadata": {
        "colab": {
          "base_uri": "https://localhost:8080/"
        },
        "id": "EHywJXEpOOjQ",
        "outputId": "5280e324-1dae-4236-b94e-501eb536fda2"
      },
      "execution_count": null,
      "outputs": [
        {
          "output_type": "execute_result",
          "data": {
            "text/plain": [
              "['monday', 'tuesday', 'wednesday', 'thursday', 'friday', 'saturday', 'sunday']"
            ]
          },
          "metadata": {},
          "execution_count": 15
        }
      ]
    },
    {
      "cell_type": "markdown",
      "source": [
        "accesing  list  items  using  with index  values"
      ],
      "metadata": {
        "id": "4_KvckRxOnd4"
      }
    },
    {
      "cell_type": "code",
      "source": [
        "days[1]"
      ],
      "metadata": {
        "colab": {
          "base_uri": "https://localhost:8080/",
          "height": 35
        },
        "id": "5WC5aGyqOuFe",
        "outputId": "a766652f-2a55-4cfa-8f96-05f9f55585a3"
      },
      "execution_count": null,
      "outputs": [
        {
          "output_type": "execute_result",
          "data": {
            "text/plain": [
              "'tuesday'"
            ],
            "application/vnd.google.colaboratory.intrinsic+json": {
              "type": "string"
            }
          },
          "metadata": {},
          "execution_count": 16
        }
      ]
    },
    {
      "cell_type": "markdown",
      "source": [
        "Negative  indexing"
      ],
      "metadata": {
        "id": "v8f1-E6yO0f2"
      }
    },
    {
      "cell_type": "code",
      "source": [
        "days=['monday','tuesday','wednesday','thursday','friday','saturday','sunday']\n",
        "days[-1]"
      ],
      "metadata": {
        "colab": {
          "base_uri": "https://localhost:8080/",
          "height": 35
        },
        "id": "j0rFFGs6O7lY",
        "outputId": "58c5aaf1-e0e5-434f-d7fe-914d4f20404a"
      },
      "execution_count": null,
      "outputs": [
        {
          "output_type": "execute_result",
          "data": {
            "text/plain": [
              "'sunday'"
            ],
            "application/vnd.google.colaboratory.intrinsic+json": {
              "type": "string"
            }
          },
          "metadata": {},
          "execution_count": 17
        }
      ]
    },
    {
      "cell_type": "code",
      "source": [
        "days[:]"
      ],
      "metadata": {
        "colab": {
          "base_uri": "https://localhost:8080/"
        },
        "id": "claHE2atPB1f",
        "outputId": "02780b9b-b9aa-4eb9-dd6b-28622f14a1d1"
      },
      "execution_count": null,
      "outputs": [
        {
          "output_type": "execute_result",
          "data": {
            "text/plain": [
              "['monday', 'tuesday', 'wednesday', 'thursday', 'friday', 'saturday', 'sunday']"
            ]
          },
          "metadata": {},
          "execution_count": 18
        }
      ]
    },
    {
      "cell_type": "markdown",
      "source": [
        "List  slicing: List slicing in Python is a way to extract a  of a list by specifying portiona range of indices. It allows you to create a new list containing a subset of elements from the original list, without modifying the original list.\"\n"
      ],
      "metadata": {
        "id": "CqqA59q_PJHY"
      }
    },
    {
      "cell_type": "code",
      "source": [
        "days[1:4]"
      ],
      "metadata": {
        "colab": {
          "base_uri": "https://localhost:8080/"
        },
        "id": "o1yoGq9GPZsX",
        "outputId": "1d6b3d1d-c1cf-40b0-e223-adef4aae6d4e"
      },
      "execution_count": null,
      "outputs": [
        {
          "output_type": "execute_result",
          "data": {
            "text/plain": [
              "['tuesday', 'wednesday', 'thursday']"
            ]
          },
          "metadata": {},
          "execution_count": 19
        }
      ]
    },
    {
      "cell_type": "code",
      "source": [],
      "metadata": {
        "id": "YYj5XtDhPl0x"
      },
      "execution_count": null,
      "outputs": []
    },
    {
      "cell_type": "code",
      "source": [
        "#list  slicing  with  step  size\n",
        "days=['monday','tuesday','wednesday','thursday','friday','saturday','sunday']\n",
        "days[1:4:2]"
      ],
      "metadata": {
        "colab": {
          "base_uri": "https://localhost:8080/"
        },
        "id": "9SzOpiI-Pi6o",
        "outputId": "282ae879-cc19-4c2a-abd5-ac8e135c35b4"
      },
      "execution_count": null,
      "outputs": [
        {
          "output_type": "execute_result",
          "data": {
            "text/plain": [
              "['tuesday', 'thursday']"
            ]
          },
          "metadata": {},
          "execution_count": 20
        }
      ]
    },
    {
      "cell_type": "markdown",
      "source": [
        "List built-in function:"
      ],
      "metadata": {
        "id": "yPLeJ7QRNZ9d"
      }
    },
    {
      "cell_type": "code",
      "source": [
        "days=['monday','tuesday','wednesday','thursday','friday','saturday','sunday']\n",
        "len(days)"
      ],
      "metadata": {
        "colab": {
          "base_uri": "https://localhost:8080/"
        },
        "id": "Ga3V7O_GQGXX",
        "outputId": "dcf44418-6cac-4727-d427-578251fa3f6e"
      },
      "execution_count": null,
      "outputs": [
        {
          "output_type": "execute_result",
          "data": {
            "text/plain": [
              "7"
            ]
          },
          "metadata": {},
          "execution_count": 21
        }
      ]
    },
    {
      "cell_type": "code",
      "source": [
        "numbers=[1,12,43,84,5,16,7,81]\n",
        "max(numbers)"
      ],
      "metadata": {
        "colab": {
          "base_uri": "https://localhost:8080/"
        },
        "id": "MoYu6CS0Qa5Y",
        "outputId": "0c3a6508-685e-4887-d3fd-7dc05f0a1b71"
      },
      "execution_count": null,
      "outputs": [
        {
          "output_type": "execute_result",
          "data": {
            "text/plain": [
              "84"
            ]
          },
          "metadata": {},
          "execution_count": 25
        }
      ]
    },
    {
      "cell_type": "code",
      "source": [
        "numbers=[1,12,43,84,5,16,7,81]\n",
        "min(numbers)"
      ],
      "metadata": {
        "colab": {
          "base_uri": "https://localhost:8080/"
        },
        "id": "aRU5aTKoQfaY",
        "outputId": "5a366b1c-0b71-4d4b-d6de-fa63bf8f0d12"
      },
      "execution_count": null,
      "outputs": [
        {
          "output_type": "execute_result",
          "data": {
            "text/plain": [
              "1"
            ]
          },
          "metadata": {},
          "execution_count": 26
        }
      ]
    },
    {
      "cell_type": "code",
      "source": [
        "import  random\n",
        "numbers=[1,12,43,84,5,16,7,81]\n",
        "random.shuffle(numbers)\n",
        "print(numbers)"
      ],
      "metadata": {
        "colab": {
          "base_uri": "https://localhost:8080/"
        },
        "id": "_bNpGApcQh6m",
        "outputId": "59f6f97f-4fa9-4d45-c6f0-3a95d9e02bc9"
      },
      "execution_count": null,
      "outputs": [
        {
          "output_type": "stream",
          "name": "stdout",
          "text": [
            "[1, 43, 7, 5, 16, 12, 84, 81]\n"
          ]
        }
      ]
    },
    {
      "cell_type": "markdown",
      "source": [
        "LIST OPERATORS"
      ],
      "metadata": {
        "id": "QC4A0cq9Q6VZ"
      }
    },
    {
      "cell_type": "code",
      "source": [
        "a=[10,20,80]\n",
        "b=[40,15,76]\n",
        "c=a+b\n",
        "print(c)"
      ],
      "metadata": {
        "colab": {
          "base_uri": "https://localhost:8080/"
        },
        "id": "6f9WL76FQ5TA",
        "outputId": "7ec5188e-76d5-474f-f337-2a35ed25fcd3"
      },
      "execution_count": null,
      "outputs": [
        {
          "output_type": "stream",
          "name": "stdout",
          "text": [
            "[10, 20, 80, 40, 15, 76]\n"
          ]
        }
      ]
    },
    {
      "cell_type": "code",
      "source": [
        "a=[30,50]\n",
        "b=3*a\n",
        "print(b)"
      ],
      "metadata": {
        "id": "8tWZn8CDRE1X"
      },
      "execution_count": null,
      "outputs": []
    },
    {
      "cell_type": "code",
      "source": [
        "days=['monday','tuesday','wednesday','thursday','friday','saturday','sunday']\n",
        "'wednesday'  in  days"
      ],
      "metadata": {
        "colab": {
          "base_uri": "https://localhost:8080/"
        },
        "id": "iYlYqTBxROcg",
        "outputId": "6ac8c193-9aed-4f23-dc9f-f4e38eaa48ed"
      },
      "execution_count": null,
      "outputs": [
        {
          "output_type": "execute_result",
          "data": {
            "text/plain": [
              "True"
            ]
          },
          "metadata": {},
          "execution_count": 30
        }
      ]
    },
    {
      "cell_type": "code",
      "source": [
        "days=['monday','tuesday','wednesday','thursday','friday','saturday','sunday']\n",
        "'tuesday'  not  in  days"
      ],
      "metadata": {
        "colab": {
          "base_uri": "https://localhost:8080/"
        },
        "id": "YvELMzrpRU0X",
        "outputId": "92cfc486-1c32-498a-84b8-4079e230191c"
      },
      "execution_count": null,
      "outputs": [
        {
          "output_type": "execute_result",
          "data": {
            "text/plain": [
              "False"
            ]
          },
          "metadata": {},
          "execution_count": 32
        }
      ]
    },
    {
      "cell_type": "code",
      "source": [
        "a='Likitha'\n",
        "b='Likitha'\n",
        "a  is  b"
      ],
      "metadata": {
        "colab": {
          "base_uri": "https://localhost:8080/"
        },
        "id": "RquU7nMERahY",
        "outputId": "bc23e4a8-3336-475f-ede7-af38e17a1b1b"
      },
      "execution_count": null,
      "outputs": [
        {
          "output_type": "execute_result",
          "data": {
            "text/plain": [
              "True"
            ]
          },
          "metadata": {},
          "execution_count": 33
        }
      ]
    },
    {
      "cell_type": "code",
      "source": [
        "a='Likitha'\n",
        "b='Panyam'\n",
        "a  is  b"
      ],
      "metadata": {
        "colab": {
          "base_uri": "https://localhost:8080/"
        },
        "id": "KWQe8ywsRjmA",
        "outputId": "c7c0d7d0-cc31-4fcb-8021-29139222dae2"
      },
      "execution_count": null,
      "outputs": [
        {
          "output_type": "execute_result",
          "data": {
            "text/plain": [
              "False"
            ]
          },
          "metadata": {},
          "execution_count": 34
        }
      ]
    },
    {
      "cell_type": "code",
      "source": [
        "days=['monday','tuesday','wednesday','thursday','friday','saturday','sunday']\n",
        "del[days[1]]\n",
        "days"
      ],
      "metadata": {
        "colab": {
          "base_uri": "https://localhost:8080/"
        },
        "id": "nQ_PBDSBRx1_",
        "outputId": "3a033e7f-fd6a-4dcf-856b-a587a4694312"
      },
      "execution_count": null,
      "outputs": [
        {
          "output_type": "execute_result",
          "data": {
            "text/plain": [
              "['monday', 'wednesday', 'thursday', 'friday', 'saturday', 'sunday']"
            ]
          },
          "metadata": {},
          "execution_count": 35
        }
      ]
    },
    {
      "cell_type": "code",
      "source": [
        "days=['monday','tuesday','wednesday','thursday','friday','saturday','sunday']\n",
        "del[days[3]]\n",
        "days"
      ],
      "metadata": {
        "colab": {
          "base_uri": "https://localhost:8080/"
        },
        "id": "mnY8NzdhR1MP",
        "outputId": "c248a3a9-638a-4154-9bdc-83de9cd7c581"
      },
      "execution_count": null,
      "outputs": [
        {
          "output_type": "execute_result",
          "data": {
            "text/plain": [
              "['monday', 'tuesday', 'wednesday', 'friday', 'saturday', 'sunday']"
            ]
          },
          "metadata": {},
          "execution_count": 36
        }
      ]
    },
    {
      "cell_type": "markdown",
      "source": [
        "List Methods:\n",
        "append(): adds element at end of the list\n",
        "clear():clear the contents of the list\n",
        "count():gives the count of repeated times\n",
        "copy():copy list from one list to another list\n",
        "extends():joins the elements of 2 lists\n"
      ],
      "metadata": {
        "id": "mDoRZfE8R5xQ"
      }
    },
    {
      "cell_type": "code",
      "source": [
        "movies = [\"RRR\", \"Pushpa\", \"Baahubali\"]\n",
        "print(movies)\n",
        "movies.append(\"KGF\")\n",
        "print(movies)"
      ],
      "metadata": {
        "colab": {
          "base_uri": "https://localhost:8080/"
        },
        "id": "FOsJI63-R4aQ",
        "outputId": "8ac902fb-b1f5-4af3-fc39-e3a6fee83111"
      },
      "execution_count": null,
      "outputs": [
        {
          "output_type": "stream",
          "name": "stdout",
          "text": [
            "['RRR', 'Pushpa', 'Baahubali']\n",
            "['RRR', 'Pushpa', 'Baahubali', 'KGF']\n"
          ]
        }
      ]
    },
    {
      "cell_type": "code",
      "source": [
        "list=['red','orange','pink','black']\n",
        "print(list)\n",
        "list.clear()\n",
        "print(list)"
      ],
      "metadata": {
        "colab": {
          "base_uri": "https://localhost:8080/"
        },
        "id": "EHQ_Xs7wTK7X",
        "outputId": "9a31f0ef-5ac1-40ea-9304-2b5658559374"
      },
      "execution_count": null,
      "outputs": [
        {
          "output_type": "stream",
          "name": "stdout",
          "text": [
            "['red', 'orange', 'pink', 'black']\n",
            "[]\n"
          ]
        }
      ]
    },
    {
      "cell_type": "code",
      "source": [
        "nums=[1,2,3,4,1,4,1,7,8,1]\n",
        "print(nums)\n",
        "nums.count(1)"
      ],
      "metadata": {
        "colab": {
          "base_uri": "https://localhost:8080/"
        },
        "id": "aup3o6HFTQwX",
        "outputId": "4960de24-d5f2-4ce5-d322-a514cdba1ab7"
      },
      "execution_count": null,
      "outputs": [
        {
          "output_type": "stream",
          "name": "stdout",
          "text": [
            "[1, 2, 3, 4, 1, 4, 1, 7, 8, 1]\n"
          ]
        },
        {
          "output_type": "execute_result",
          "data": {
            "text/plain": [
              "4"
            ]
          },
          "metadata": {},
          "execution_count": 39
        }
      ]
    },
    {
      "cell_type": "code",
      "source": [
        "list_1=[1,2,3,4]\n",
        "print(list_1)\n",
        "list_2=list_1.copy()\n",
        "print(list_2)"
      ],
      "metadata": {
        "colab": {
          "base_uri": "https://localhost:8080/"
        },
        "id": "6SxUJwk-Tabm",
        "outputId": "b4880ac2-cbc4-4ce9-a39e-f4ce0055dc3d"
      },
      "execution_count": null,
      "outputs": [
        {
          "output_type": "stream",
          "name": "stdout",
          "text": [
            "[1, 2, 3, 4]\n",
            "[1, 2, 3, 4]\n"
          ]
        }
      ]
    },
    {
      "cell_type": "code",
      "source": [
        "A=[1,3,2,4,5]\n",
        "B=[5,6,7,3,6]\n",
        "print(A)\n",
        "print(B)\n",
        "A.extend(B)\n",
        "print(A)"
      ],
      "metadata": {
        "colab": {
          "base_uri": "https://localhost:8080/"
        },
        "id": "HsIbjOs7TdeP",
        "outputId": "e8377dea-7c04-4167-be5f-a43d1ec65d9f"
      },
      "execution_count": null,
      "outputs": [
        {
          "output_type": "stream",
          "name": "stdout",
          "text": [
            "[1, 3, 2, 4, 5]\n",
            "[5, 6, 7, 3, 6]\n",
            "[1, 3, 2, 4, 5, 5, 6, 7, 3, 6]\n"
          ]
        }
      ]
    },
    {
      "cell_type": "markdown",
      "source": [
        "PYTHON TUPLES"
      ],
      "metadata": {
        "id": "zwaDNALTTxs_"
      }
    },
    {
      "cell_type": "code",
      "source": [
        "a=(8,)\n",
        "print(a)\n",
        "print(type(a))"
      ],
      "metadata": {
        "colab": {
          "base_uri": "https://localhost:8080/"
        },
        "id": "ROHmd-DKTxFe",
        "outputId": "89e30443-f41b-4ccd-bfbc-2d93ad6120c2"
      },
      "execution_count": null,
      "outputs": [
        {
          "output_type": "stream",
          "name": "stdout",
          "text": [
            "(8,)\n",
            "<class 'tuple'>\n"
          ]
        }
      ]
    },
    {
      "cell_type": "code",
      "source": [
        "b=(6.5,5.9,2.0)\n",
        "print(b)"
      ],
      "metadata": {
        "colab": {
          "base_uri": "https://localhost:8080/"
        },
        "id": "KDUhq1g4T2hX",
        "outputId": "d2455166-5258-4aa3-f8fd-e8c85e27f47b"
      },
      "execution_count": null,
      "outputs": [
        {
          "output_type": "stream",
          "name": "stdout",
          "text": [
            "(6.5, 5.9, 2.0)\n"
          ]
        }
      ]
    },
    {
      "cell_type": "code",
      "source": [
        "c=('one','two','three')\n",
        "c"
      ],
      "metadata": {
        "colab": {
          "base_uri": "https://localhost:8080/"
        },
        "id": "RY3V75KhT_Oj",
        "outputId": "2dcab133-9f4b-4047-cba7-86a8c665c924"
      },
      "execution_count": null,
      "outputs": [
        {
          "output_type": "execute_result",
          "data": {
            "text/plain": [
              "('one', 'two', 'three')"
            ]
          },
          "metadata": {},
          "execution_count": 44
        }
      ]
    },
    {
      "cell_type": "code",
      "source": [
        "mix_type=('hello',708,66.8,1,2) #tuple\n",
        "print(mix_type)"
      ],
      "metadata": {
        "colab": {
          "base_uri": "https://localhost:8080/"
        },
        "id": "famfczVfUDab",
        "outputId": "35b77878-9c22-4265-f4a3-2f132f78da55"
      },
      "execution_count": null,
      "outputs": [
        {
          "output_type": "stream",
          "name": "stdout",
          "text": [
            "('hello', 708, 66.8, 1, 2)\n"
          ]
        }
      ]
    },
    {
      "cell_type": "code",
      "source": [
        "#accessing  items  of  tuple\n",
        "a=(1,2,3,4,'hello')\n",
        "print(a[4])"
      ],
      "metadata": {
        "colab": {
          "base_uri": "https://localhost:8080/"
        },
        "id": "E6oPIDZoUVCG",
        "outputId": "142925f1-0592-4950-8652-eac6b72e4b26"
      },
      "execution_count": null,
      "outputs": [
        {
          "output_type": "stream",
          "name": "stdout",
          "text": [
            "hello\n"
          ]
        }
      ]
    },
    {
      "cell_type": "code",
      "source": [
        "#create  a  dictionary\n",
        "a={\n",
        "'name':'likitha',\n",
        "'age':20,\n",
        "'education':'Bca'\n",
        "}\n",
        "print(a)"
      ],
      "metadata": {
        "colab": {
          "base_uri": "https://localhost:8080/"
        },
        "id": "1lHBVzLVUXCW",
        "outputId": "274d615c-6689-4513-e048-ed9a8c2cff5c"
      },
      "execution_count": null,
      "outputs": [
        {
          "output_type": "stream",
          "name": "stdout",
          "text": [
            "{'name': 'likitha', 'age': 20, 'education': 'Bca'}\n"
          ]
        }
      ]
    },
    {
      "cell_type": "code",
      "source": [
        "len(a)"
      ],
      "metadata": {
        "colab": {
          "base_uri": "https://localhost:8080/"
        },
        "id": "eiM8-Y_JU19u",
        "outputId": "c7ad8d58-270a-4df1-c587-d683fdf08c72"
      },
      "execution_count": null,
      "outputs": [
        {
          "output_type": "execute_result",
          "data": {
            "text/plain": [
              "3"
            ]
          },
          "metadata": {},
          "execution_count": 49
        }
      ]
    },
    {
      "cell_type": "code",
      "source": [
        "type(a)"
      ],
      "metadata": {
        "colab": {
          "base_uri": "https://localhost:8080/"
        },
        "id": "jHCOWiykU5Et",
        "outputId": "2e96eb25-8d1d-4725-ede5-83cf35c07dd7"
      },
      "execution_count": null,
      "outputs": [
        {
          "output_type": "execute_result",
          "data": {
            "text/plain": [
              "dict"
            ]
          },
          "metadata": {},
          "execution_count": 50
        }
      ]
    },
    {
      "cell_type": "code",
      "source": [
        "x=a.keys()\n",
        "x"
      ],
      "metadata": {
        "colab": {
          "base_uri": "https://localhost:8080/"
        },
        "id": "ukInujkAVDzM",
        "outputId": "166e918a-4e37-4c03-bf94-8764ce0a33e4"
      },
      "execution_count": null,
      "outputs": [
        {
          "output_type": "execute_result",
          "data": {
            "text/plain": [
              "dict_keys(['name', 'age', 'education'])"
            ]
          },
          "metadata": {},
          "execution_count": 53
        }
      ]
    },
    {
      "cell_type": "code",
      "source": [
        "y=a.values()\n",
        "y"
      ],
      "metadata": {
        "colab": {
          "base_uri": "https://localhost:8080/"
        },
        "id": "lYvJgHVFVJNu",
        "outputId": "b65c51ed-7516-4a99-b7dc-3931efd91164"
      },
      "execution_count": null,
      "outputs": [
        {
          "output_type": "execute_result",
          "data": {
            "text/plain": [
              "dict_values(['likitha', 20, 'Bca'])"
            ]
          },
          "metadata": {},
          "execution_count": 54
        }
      ]
    },
    {
      "cell_type": "code",
      "source": [
        "z=a.items()\n",
        "z"
      ],
      "metadata": {
        "colab": {
          "base_uri": "https://localhost:8080/"
        },
        "id": "InsXk6mcVRIH",
        "outputId": "cc26a160-1bae-4bb6-ea76-ea2fdd468461"
      },
      "execution_count": null,
      "outputs": [
        {
          "output_type": "execute_result",
          "data": {
            "text/plain": [
              "dict_items([('name', 'likitha'), ('age', 20), ('education', 'Bca')])"
            ]
          },
          "metadata": {},
          "execution_count": 55
        }
      ]
    },
    {
      "cell_type": "markdown",
      "source": [
        "Python Sets: Sets are used to store multiple items in a single variable"
      ],
      "metadata": {
        "id": "i2KHhuucVYgK"
      }
    },
    {
      "cell_type": "code",
      "source": [
        "set1={1,2,3,4}\n",
        "print(set1)"
      ],
      "metadata": {
        "colab": {
          "base_uri": "https://localhost:8080/"
        },
        "id": "ylw6vO-1VXLT",
        "outputId": "87df5410-60d3-4536-e8f4-a77897fae8b4"
      },
      "execution_count": null,
      "outputs": [
        {
          "output_type": "stream",
          "name": "stdout",
          "text": [
            "{1, 2, 3, 4}\n"
          ]
        }
      ]
    },
    {
      "cell_type": "code",
      "source": [
        "#duplicates  not  allowed\n",
        "set={1,27,3,4,5,6,7,81,10,81}\n",
        "set"
      ],
      "metadata": {
        "colab": {
          "base_uri": "https://localhost:8080/"
        },
        "id": "25z0O0SIVfnj",
        "outputId": "3246f4f4-c56b-445a-e6d6-f44bac4f1388"
      },
      "execution_count": null,
      "outputs": [
        {
          "output_type": "execute_result",
          "data": {
            "text/plain": [
              "{1, 3, 4, 5, 6, 7, 10, 27, 81}"
            ]
          },
          "metadata": {},
          "execution_count": 58
        }
      ]
    },
    {
      "cell_type": "code",
      "source": [
        "len(set)"
      ],
      "metadata": {
        "colab": {
          "base_uri": "https://localhost:8080/"
        },
        "id": "rWw0f7I2VpSt",
        "outputId": "371470fd-ff71-4f66-dc70-7a87aae375d9"
      },
      "execution_count": null,
      "outputs": [
        {
          "output_type": "execute_result",
          "data": {
            "text/plain": [
              "9"
            ]
          },
          "metadata": {},
          "execution_count": 59
        }
      ]
    },
    {
      "cell_type": "code",
      "source": [
        "type(set)"
      ],
      "metadata": {
        "colab": {
          "base_uri": "https://localhost:8080/"
        },
        "id": "IQtjgZc2V4T-",
        "outputId": "8f2da1f5-cdcc-4d31-d2b2-5ed18fa6f49a"
      },
      "execution_count": null,
      "outputs": [
        {
          "output_type": "execute_result",
          "data": {
            "text/plain": [
              "set"
            ]
          },
          "metadata": {},
          "execution_count": 60
        }
      ]
    },
    {
      "cell_type": "markdown",
      "source": [
        "Python functions\n",
        "1.Python functions is a block of statements that peforms a specific task.\n",
        "2.Get executed when the function is called.\n",
        ".We have 2 types of functions:\n",
        "a.User-defined function(.Built-in function: python predefined functions that are readily available. such as min(),max(),print(),sum() etc\n",
        "b.Built-in function"
      ],
      "metadata": {
        "id": "qVpIi5eKWc1f"
      }
    },
    {
      "cell_type": "code",
      "source": [
        "def  add():\n",
        "      a=9\n",
        "      b=8\n",
        "      sum=a+b\n",
        "      return sum\n",
        "add()\n",
        "print(add())"
      ],
      "metadata": {
        "colab": {
          "base_uri": "https://localhost:8080/"
        },
        "id": "MA41qT0sWm3O",
        "outputId": "892eed87-9c33-4613-a3b0-4cce48398345"
      },
      "execution_count": null,
      "outputs": [
        {
          "output_type": "stream",
          "name": "stdout",
          "text": [
            "17\n"
          ]
        }
      ]
    },
    {
      "cell_type": "markdown",
      "source": [
        "function  modularity:"
      ],
      "metadata": {
        "id": "vTUhNGIWXPX2"
      }
    },
    {
      "cell_type": "code",
      "source": [
        "def collectdata():\n",
        "    \"\"\"Function to collect data.\"\"\"\n",
        "    print(\"Collecting data...\")\n",
        "def cleandata():\n",
        "    \"\"\"Function to clean data.\"\"\"\n",
        "    print(\"Cleaning data...\")\n",
        "def processdata():\n",
        "    \"\"\"Function to pre-process the data.\"\"\"\n",
        "    print(\"Processing data...\")\n",
        "def exploredata():\n",
        "    \"\"\"Function to explore data.\"\"\"\n",
        "    print(\"Exploring data...\")\n",
        "def visualization():\n",
        "    \"\"\"Function to visualize data.\"\"\"\n",
        "    print(\"Visualizing data...\")\n",
        "if __name__ == \"__main__\":\n",
        "    collectdata()\n",
        "    cleandata()\n",
        "    processdata()\n",
        "    exploredata()\n",
        "    visualization()\n"
      ],
      "metadata": {
        "colab": {
          "base_uri": "https://localhost:8080/"
        },
        "id": "5-ZXo8kAXlqu",
        "outputId": "631343ed-ea38-47dd-d1a1-a8bdb8c99170"
      },
      "execution_count": null,
      "outputs": [
        {
          "output_type": "stream",
          "name": "stdout",
          "text": [
            "Collecting data...\n",
            "Cleaning data...\n",
            "Processing data...\n",
            "Exploring data...\n",
            "Visualizing data...\n"
          ]
        }
      ]
    }
  ]
}