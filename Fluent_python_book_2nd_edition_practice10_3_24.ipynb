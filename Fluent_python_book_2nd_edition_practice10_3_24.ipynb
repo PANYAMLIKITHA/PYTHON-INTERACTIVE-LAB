{
  "nbformat": 4,
  "nbformat_minor": 0,
  "metadata": {
    "colab": {
      "provenance": [],
      "authorship_tag": "ABX9TyNbSp427DnoaAHnMzbZlStR",
      "include_colab_link": true
    },
    "kernelspec": {
      "name": "python3",
      "display_name": "Python 3"
    },
    "language_info": {
      "name": "python"
    }
  },
  "cells": [
    {
      "cell_type": "markdown",
      "metadata": {
        "id": "view-in-github",
        "colab_type": "text"
      },
      "source": [
        "<a href=\"https://colab.research.google.com/github/PANYAMLIKITHA/PYTHON-INTERACTIVE-LAB/blob/main/Fluent_python_book_2nd_edition_practice10_3_24.ipynb\" target=\"_parent\"><img src=\"https://colab.research.google.com/assets/colab-badge.svg\" alt=\"Open In Colab\"/></a>"
      ]
    },
    {
      "cell_type": "code",
      "source": [
        "import collections\n",
        "Card = collections.namedtuple('Card', ['rank', 'suit'])\n",
        "\n",
        "class FrenchDeck:\n",
        "    ranks = [str(n) for n in range(2, 11)] + list('JQKA')\n",
        "    suits = 'spades diamonds clubs hearts'.split()\n",
        "    def __init__(self):\n",
        "        self._cards = [Card(rank, suit) for suit in self.suits\n",
        "                                        for rank in self.ranks]\n",
        "    def __len__(self):\n",
        "        return len(self._cards)\n",
        "    def __getitem__(self, position):\n",
        "        return self._cards[position]\n",
        "\n",
        "deck = FrenchDeck()\n",
        "print(len(deck))"
      ],
      "metadata": {
        "colab": {
          "base_uri": "https://localhost:8080/"
        },
        "id": "vuPh6Jcq0UR1",
        "outputId": "89509a76-e437-44ba-8ce0-4b1fb86d26d7"
      },
      "execution_count": 13,
      "outputs": [
        {
          "output_type": "stream",
          "name": "stdout",
          "text": [
            "52\n"
          ]
        }
      ]
    },
    {
      "cell_type": "code",
      "source": [
        "import math\n",
        "\n",
        "class Vector:\n",
        "    def __init__(self, x=0, y=0):\n",
        "        self.x = x\n",
        "        self.y = y\n",
        "    def __repr__(self):\n",
        "        return f'Vector({self.x!r}, {self.y!r})'\n",
        "    def __abs__(self):\n",
        "        return math.hypot(self.x, self.y)\n",
        "    def __bool__(self):\n",
        "        return bool(abs(self))\n",
        "    def __add__(self, other):\n",
        "        x = self.x + other.x\n",
        "        y = self.y + other.y\n",
        "        return Vector(x, y)\n",
        "    def __mul__(self, scalar):\n",
        "        return Vector(self.x * scalar, self.y * scalar)\n",
        "vector = Vector() # create an instance of the Vector class and assign it to the variable vector\n",
        "print(vector)"
      ],
      "metadata": {
        "colab": {
          "base_uri": "https://localhost:8080/"
        },
        "id": "izRBnsjL1Axe",
        "outputId": "2db4cfe6-0e49-4278-c29c-3d3818d0b4f4"
      },
      "execution_count": 12,
      "outputs": [
        {
          "output_type": "stream",
          "name": "stdout",
          "text": [
            "Vector(0, 0)\n"
          ]
        }
      ]
    },
    {
      "cell_type": "code",
      "source": [
        "symbols = '$¢£¥€¤'\n",
        "beyond_ascii = [ord(s) for s in symbols if ord(s) > 127] # removed extra indent\n",
        "beyond_ascii"
      ],
      "metadata": {
        "colab": {
          "base_uri": "https://localhost:8080/"
        },
        "id": "NI9Vdbon1lWt",
        "outputId": "6ceb0b4c-1cd9-420c-ee11-59f330321e9d"
      },
      "execution_count": 19,
      "outputs": [
        {
          "output_type": "execute_result",
          "data": {
            "text/plain": [
              "[162, 163, 165, 8364, 164]"
            ]
          },
          "metadata": {},
          "execution_count": 19
        }
      ]
    },
    {
      "cell_type": "code",
      "source": [
        "colors = ['black', 'white']\n",
        "sizes = ['S', 'M', 'L']\n",
        "tshirts = [(color, size) for color in colors for size in sizes]\n",
        "tshirts\n",
        "for color in colors:\n",
        "    for size in sizes: # Corrected indentation for the nested loop\n",
        "        print((color, size)) # Corrected indentation for the print statement"
      ],
      "metadata": {
        "colab": {
          "base_uri": "https://localhost:8080/"
        },
        "id": "-GQWMdnS159M",
        "outputId": "395bf25d-5a5a-4d95-d2d7-5e0ad32efb64"
      },
      "execution_count": 21,
      "outputs": [
        {
          "output_type": "stream",
          "name": "stdout",
          "text": [
            "('black', 'S')\n",
            "('black', 'M')\n",
            "('black', 'L')\n",
            "('white', 'S')\n",
            "('white', 'M')\n",
            "('white', 'L')\n"
          ]
        }
      ]
    },
    {
      "cell_type": "code",
      "source": [
        "import copy\n",
        "\n",
        "a = (10, 'alpha', [1, 2])\n",
        "b = copy.deepcopy(a)  # Create a deep copy of the tuple\n",
        "a == b\n",
        "True\n",
        "b[-1].append(99)\n",
        "a == b\n",
        "b\n",
        "(10, 'alpha', [1, 2, 99])\n",
        "a\n",
        "(10, 'alpha', [1, 2])\n"
      ],
      "metadata": {
        "colab": {
          "base_uri": "https://localhost:8080/"
        },
        "id": "v7zXZ7S42QwF",
        "outputId": "aee53b18-bdc8-4a5f-fe2b-cd048584ebb8"
      },
      "execution_count": 23,
      "outputs": [
        {
          "output_type": "execute_result",
          "data": {
            "text/plain": [
              "(10, 'alpha', [1, 2])"
            ]
          },
          "metadata": {},
          "execution_count": 23
        }
      ]
    },
    {
      "cell_type": "code",
      "source": [
        "a, b, *rest = range(5)\n",
        "a, b, rest # removed extra leading space\n",
        "(0, 1, [2, 3, 4])\n",
        "a, b, *rest = range(3)\n",
        "a, b, rest # removed extra leading space\n",
        "(0, 1, [2])\n",
        "a, b, *rest = range(2)\n",
        "a, b, rest # removed extra leading space\n",
        "(0, 1, [])\n"
      ],
      "metadata": {
        "colab": {
          "base_uri": "https://localhost:8080/"
        },
        "id": "oCJYWVae27Zc",
        "outputId": "d17e6286-7b47-4c5e-b69e-fa165e7dadab"
      },
      "execution_count": 29,
      "outputs": [
        {
          "output_type": "execute_result",
          "data": {
            "text/plain": [
              "(0, 1, [])"
            ]
          },
          "metadata": {},
          "execution_count": 29
        }
      ]
    },
    {
      "cell_type": "code",
      "source": [
        "metro_areas = [\n",
        " ('Tokyo', 'JP', 36.933, (35.689722, 139.691667)),\n",
        "('Delhi NCR', 'IN', 21.935, (28.613889, 77.208889)),\n",
        " ('Mexico City', 'MX', 20.142, (19.433333, -99.133333)),\n",
        " ('New York-Newark', 'US', 20.104, (40.808611, -74.020386)),\n",
        " ('São Paulo', 'BR', 19.649, (-23.547778, -46.635833)),\n",
        " ]\n",
        "def main(): # removed extra indent\n",
        "    print(f'{\"\":15} | {\"latitude\":>9} | {\"longitude\":>9}')\n",
        "    for name, _, _, (lat, lon) in metro_areas:\n",
        "        if lon <= 0:\n",
        "            print(f'{name:15} | {lat:9.4f} | {lon:9.4f}')\n",
        "if __name__ == '__main__':\n",
        "     main()"
      ],
      "metadata": {
        "colab": {
          "base_uri": "https://localhost:8080/"
        },
        "id": "CJwpKjo_3rdE",
        "outputId": "90601ec4-8a31-488d-985e-c6df6bc71e06"
      },
      "execution_count": 33,
      "outputs": [
        {
          "output_type": "stream",
          "name": "stdout",
          "text": [
            "                |  latitude | longitude\n",
            "Mexico City     |   19.4333 |  -99.1333\n",
            "New York-Newark |   40.8086 |  -74.0204\n",
            "São Paulo       |  -23.5478 |  -46.6358\n"
          ]
        }
      ]
    },
    {
      "cell_type": "code",
      "source": [
        "def handle_command(self, message):\n",
        "    match message:\n",
        "        case ['BEEPER', frequency, times]:\n",
        "            self.beep(times, frequency)\n",
        "        case ['NECK', angle]:\n",
        "            self.rotate_neck(angle)\n",
        "        case ['LED', ident, intensity]:\n",
        "            self.leds[ident].set_brightness(ident, intensity)\n",
        "        case ['LED', ident, red, green, blue]:\n",
        "            self.leds[ident].set_color(ident, red, green, blue)\n",
        "        case _:\n",
        "            raise InvalidCommand(message)\n",
        ""
      ],
      "metadata": {
        "id": "FcJYQQVi3xdM"
      },
      "execution_count": 39,
      "outputs": []
    },
    {
      "cell_type": "code",
      "source": [
        "from typing import Any\n",
        "\n",
        "# If Expression is a custom class, define it\n",
        "class Expression:\n",
        "    pass\n",
        "\n",
        "# Define the Environment class\n",
        "class Environment:\n",
        "    def __getitem__(self, key):\n",
        "        return 'test' # Added for testing purposes\n",
        "\n",
        "\n",
        "class Symbol(Expression):\n",
        "    def __init__(self, name):\n",
        "        self.name = name\n",
        "\n",
        "    def __repr__(self):\n",
        "        return f\"Symbol({self.name!r})\"\n",
        "\n",
        "\n",
        "def evaluate(exp: Expression, env: Environment) -> Any:\n",
        "    \"Evaluate an expression in an environment.\"\n",
        "    print(f\"Evaluating: {exp}\")\n",
        "    if isinstance(exp, Symbol):\n",
        "        # variable reference\n",
        "        val = env[exp]\n",
        "        print(f\"  - Variable reference: {exp} -> {val}\")\n",
        "        return val\n",
        "\n",
        "    else:\n",
        "        print(\"  - Unknown expression type\")\n",
        "        return None\n",
        "\n",
        "# Example usage\n",
        "env = Environment()\n",
        "exp = Symbol('x')\n",
        "result = evaluate(exp, env)\n",
        "print(f\"Result: {result}\")"
      ],
      "metadata": {
        "colab": {
          "base_uri": "https://localhost:8080/"
        },
        "id": "P9W3kjct4xZ0",
        "outputId": "ec628fc3-1cc8-4a46-cd24-bf7f4d3e09ad"
      },
      "execution_count": 46,
      "outputs": [
        {
          "output_type": "stream",
          "name": "stdout",
          "text": [
            "Evaluating: Symbol('x')\n",
            "  - Variable reference: Symbol('x') -> test\n",
            "Result: test\n"
          ]
        }
      ]
    },
    {
      "cell_type": "code",
      "source": [
        "SKU = slice(0, 6)\n",
        "DESCRIPTION = slice(6, 40)\n",
        "UNIT_PRICE = slice(40, 52)\n",
        "QUANTITY =  slice(52, 55)\n",
        "ITEM_TOTAL = slice(55, None)\n",
        "\n",
        "# Example invoice string (replace with your actual invoice data)\n",
        "invoice = \"\"\"\n",
        "0.....6.........................................40........52...55........\n",
        "1909  Pimoroni PiBrella                     $17.50    3    $52.50\n",
        "1489  6mm Tactile Switch x20                 $4.95    2     $9.90\n",
        "1510  Panavise Jr. - PV-201                $28.00    1    $28.00\n",
        "1601  PiTFT Mini Kit 320x240                $34.95    1    $34.95\n",
        "\"\"\"\n",
        "\n",
        "line_items = invoice.split('\\n')[2:]\n",
        "for item in line_items:\n",
        "    ...\n",
        "    print(item[UNIT_PRICE], item[DESCRIPTION])"
      ],
      "metadata": {
        "colab": {
          "base_uri": "https://localhost:8080/"
        },
        "id": "cOUnj4Ja5SQL",
        "outputId": "5a48b544-f2c3-4205-a66f-737797a0ce27"
      },
      "execution_count": 49,
      "outputs": [
        {
          "output_type": "stream",
          "name": "stdout",
          "text": [
            "    $17.50   Pimoroni PiBrella                 \n",
            "     $4.95   6mm Tactile Switch x20            \n",
            "   $28.00    Panavise Jr. - PV-201             \n",
            "    $34.95   PiTFT Mini Kit 320x240            \n",
            " \n"
          ]
        }
      ]
    },
    {
      "cell_type": "code",
      "source": [
        "l = list(range(10))\n",
        "l\n",
        "[0, 1, 2, 3, 4, 5, 6, 7, 8, 9]\n",
        "l[2:5] = [20, 30]\n",
        "l\n",
        "[0, 1, 20, 30, 5, 6, 7, 8, 9]\n",
        "del l[5:7]\n",
        "l\n",
        "[0, 1, 20, 30, 5, 8, 9]\n",
        "l[3::2] = [11, 22]\n",
        "l\n",
        "[0, 1, 20, 11, 5, 22, 9]\n",
        "l[2:5] = [100]\n",
        "l\n",
        "[0, 1, 100, 22, 9]"
      ],
      "metadata": {
        "colab": {
          "base_uri": "https://localhost:8080/"
        },
        "id": "xIBo5HTG5iAb",
        "outputId": "f666bb20-5dfb-4336-9189-e6af9d079e4d"
      },
      "execution_count": 52,
      "outputs": [
        {
          "output_type": "execute_result",
          "data": {
            "text/plain": [
              "[0, 1, 100, 22, 9]"
            ]
          },
          "metadata": {},
          "execution_count": 52
        }
      ]
    },
    {
      "cell_type": "code",
      "source": [
        "l = [1, 2, 3]\n",
        "id(l)\n",
        "# 4311953800\n",
        "l *= 2\n",
        "l\n",
        "# [1, 2, 3, 1, 2, 3]\n",
        "id(l)\n",
        "# 4311953800\n",
        "t = (1, 2, 3)\n",
        "id(t)\n",
        "# 4312681568\n",
        "t *= 2\n",
        "id(t)\n",
        "# 4301348296"
      ],
      "metadata": {
        "colab": {
          "base_uri": "https://localhost:8080/"
        },
        "id": "_Y30jyPD59m0",
        "outputId": "eba1629f-16c2-41c6-eafc-6ab1e445798e"
      },
      "execution_count": 54,
      "outputs": [
        {
          "output_type": "execute_result",
          "data": {
            "text/plain": [
              "137960735665280"
            ]
          },
          "metadata": {},
          "execution_count": 54
        }
      ]
    },
    {
      "cell_type": "code",
      "source": [
        "t = (1, 2, [30, 40])\n",
        "t[2].extend([50, 60]) # Use extend() method to modify the list within the tuple\n",
        "print(t)"
      ],
      "metadata": {
        "colab": {
          "base_uri": "https://localhost:8080/"
        },
        "id": "gJEhfv9A6R8i",
        "outputId": "96969ed2-4a8a-47e3-e3d0-703f68c4474a"
      },
      "execution_count": 57,
      "outputs": [
        {
          "output_type": "stream",
          "name": "stdout",
          "text": [
            "(1, 2, [30, 40, 50, 60])\n"
          ]
        }
      ]
    },
    {
      "cell_type": "code",
      "source": [
        "fruits = ['grape', 'raspberry', 'apple', 'banana']\n",
        "sorted(fruits)\n",
        "# ['apple', 'banana', 'grape', 'raspberry']\n",
        "fruits\n",
        "# ['grape', 'raspberry', 'apple', 'banana']\n",
        "sorted(fruits, reverse=True)\n",
        "# ['raspberry', 'grape', 'banana', 'apple']\n",
        "sorted(fruits, key=len)\n",
        "# ['grape', 'apple', 'banana', 'raspberry']\n",
        "sorted(fruits, key=len, reverse=True)\n",
        "# ['raspberry', 'banana', 'grape', 'apple']\n",
        "fruits\n",
        "# ['grape', 'raspberry', 'apple', 'banana']\n",
        "fruits.sort()\n",
        "fruits\n",
        "# ['apple', 'banana', 'grape', 'raspberry']"
      ],
      "metadata": {
        "colab": {
          "base_uri": "https://localhost:8080/"
        },
        "id": "-dz4k8WR6lqb",
        "outputId": "0396dd92-9188-45f6-bff3-53e870cb4952"
      },
      "execution_count": 59,
      "outputs": [
        {
          "output_type": "execute_result",
          "data": {
            "text/plain": [
              "['apple', 'banana', 'grape', 'raspberry']"
            ]
          },
          "metadata": {},
          "execution_count": 59
        }
      ]
    },
    {
      "cell_type": "code",
      "source": [
        " from array import array\n",
        "from random import random\n",
        "floats = array('d', (random() for i in range(10**7)))\n",
        " floats[-1]\n",
        "0.07802343889111107\n",
        " fp = open('floats.bin', 'wb')\n",
        "  floats.tofile(fp)\n",
        " fp.close()\n",
        " floats2 = array('d')\n",
        " fp = open('floats.bin', 'rb')\n",
        " floats2.fromfile(fp, 10**7)\n",
        " fp.close()\n",
        " floats2[-1]\n",
        ">0.07802343889111107\n",
        " floats2 == floats\n",
        "True"
      ],
      "metadata": {
        "colab": {
          "base_uri": "https://localhost:8080/",
          "height": 106
        },
        "id": "zPkHwag36vXq",
        "outputId": "b61062d3-6a5d-4e73-afa0-dbff8cc964a6"
      },
      "execution_count": 60,
      "outputs": [
        {
          "output_type": "error",
          "ename": "IndentationError",
          "evalue": "unexpected indent (<ipython-input-60-510108bf775e>, line 7)",
          "traceback": [
            "\u001b[0;36m  File \u001b[0;32m\"<ipython-input-60-510108bf775e>\"\u001b[0;36m, line \u001b[0;32m7\u001b[0m\n\u001b[0;31m    floats.tofile(fp)\u001b[0m\n\u001b[0m    ^\u001b[0m\n\u001b[0;31mIndentationError\u001b[0m\u001b[0;31m:\u001b[0m unexpected indent\n"
          ]
        }
      ]
    },
    {
      "cell_type": "code",
      "source": [
        "from array import array\n",
        "from random import random\n",
        "floats = array('d', (random() for i in range(10**7)))\n",
        "floats[-1]\n",
        "0.07802343889111107\n",
        "fp = open('floats.bin', 'wb')\n",
        "floats.tofile(fp) # Removed extra indent\n",
        "fp.close()\n",
        "floats2 = array('d')\n",
        "fp = open('floats.bin', 'rb')\n",
        "floats2.fromfile(fp, 10**7)\n",
        "fp.close()\n",
        "floats2[-1]\n",
        "\n",
        "floats2 == floats\n"
      ],
      "metadata": {
        "colab": {
          "base_uri": "https://localhost:8080/"
        },
        "id": "7pghJavX69Dj",
        "outputId": "246ee2bf-d384-4e1b-8bda-30dcfc21b65e"
      },
      "execution_count": 63,
      "outputs": [
        {
          "output_type": "execute_result",
          "data": {
            "text/plain": [
              "True"
            ]
          },
          "metadata": {},
          "execution_count": 63
        }
      ]
    }
  ]
}