{
  "cells": [
    {
      "cell_type": "markdown",
      "metadata": {
        "id": "view-in-github",
        "colab_type": "text"
      },
      "source": [
        "<a href=\"https://colab.research.google.com/github/PANYAMLIKITHA/PYTHON-INTERACTIVE-LAB/blob/main/PYTHON_INTERACTIVE_LAB_2_11_09_24.ipynb\" target=\"_parent\"><img src=\"https://colab.research.google.com/assets/colab-badge.svg\" alt=\"Open In Colab\"/></a>"
      ]
    },
    {
      "cell_type": "code",
      "source": [
        "class Employee:\n",
        "    # class variables\n",
        "    company_name = 'ABC Company'\n",
        "    # constructor to initialize the object\n",
        "    def __init__(self, name, salary):\n",
        "        # instance variables\n",
        "        self.name = name\n",
        "        self.salary = salary\n",
        "    # instance method\n",
        "    def show(self):\n",
        "        print('Employee:', self.name, self.salary, self.company_name)\n",
        "# create first object\n",
        "emp1 = Employee(\"Harry\", 12000)\n",
        "emp1.show()\n",
        "# create second object\n",
        "emp2 = Employee(\"Emma\", 10000)\n",
        "emp2.show()"
      ],
      "metadata": {
        "colab": {
          "base_uri": "https://localhost:8080/"
        },
        "id": "nHnuLeihR8Wq",
        "outputId": "01812e63-7db1-4477-9fb1-b22ac04fb68e"
      },
      "execution_count": null,
      "outputs": [
        {
          "output_type": "stream",
          "name": "stdout",
          "text": [
            "Employee: Harry 12000 ABC Company\n",
            "Employee: Emma 10000 ABC Company\n"
          ]
        }
      ]
    },
    {
      "cell_type": "code",
      "source": [
        "class Employee:\n",
        "    def __init__(self, name, salary):\n",
        "        self.name = name\n",
        "        self.__salary = salary\n",
        "    def show(self):\n",
        "        print(\"Name is \", self.name, \"and salary is\", self.__salary)\n",
        "emp = Employee(\"Jessa\", 40000)\n",
        "emp.show()\n",
        "# access salary from outside of a class\n",
        "# print(emp.__salary)"
      ],
      "metadata": {
        "colab": {
          "base_uri": "https://localhost:8080/"
        },
        "id": "ZZtEilssSx3a",
        "outputId": "2c39d9e4-2b85-4c8d-d291-3617d19c4de8"
      },
      "execution_count": null,
      "outputs": [
        {
          "output_type": "stream",
          "name": "stdout",
          "text": [
            "Name is  Jessa and salary is 40000\n"
          ]
        }
      ]
    },
    {
      "cell_type": "code",
      "source": [
        "# polymophism\n",
        "class Circle:\n",
        "    pi = 3.14\n",
        "    def __init__(self, radius):\n",
        "        self.radius = radius\n",
        "    def calculate_area(self):\n",
        "        print(\"Area of circle :\", self.pi * self.radius * self.radius)\n",
        "\n",
        "class Rectangle:\n",
        "    def __init__(self, length, width):\n",
        "        self.length = length\n",
        "        self.width = width\n",
        "    def calculate_area(self):\n",
        "        print(\"Area of Rectangle :\", self.length * self.width)\n",
        "\n",
        "# function def\n",
        "def area(shape):\n",
        "    # call action\n",
        "    shape.calculate_area()\n",
        "\n",
        "# create object\n",
        "cir = Circle(5)\n",
        "rect = Rectangle(10, 5)\n",
        "\n",
        "# call common function\n",
        "area(cir)\n",
        "area(rect)"
      ],
      "metadata": {
        "colab": {
          "base_uri": "https://localhost:8080/"
        },
        "id": "w-Exl832Ti2B",
        "outputId": "6ead71ac-d248-42b5-e77c-c584ad460bfb"
      },
      "execution_count": null,
      "outputs": [
        {
          "output_type": "stream",
          "name": "stdout",
          "text": [
            "Area of circle : 78.5\n",
            "Area of Rectangle : 50\n"
          ]
        }
      ]
    },
    {
      "cell_type": "code",
      "source": [
        "#inheritence\n",
        "# Base class\n",
        "class Vehicle:\n",
        "    def __init__(self, name, color, price):\n",
        "        self.name = name\n",
        "        self.color = color\n",
        "        self.price = price\n",
        "    def info(self):\n",
        "        print(self.name, self.color, self.price)\n",
        "# Child class\n",
        "class Car(Vehicle):\n",
        "    def change_gear(self, no):\n",
        "        print(self.name, 'change gear to number', no)\n",
        "# Create object of Car\n",
        "car = Car('BMW X1', 'Black', 35000)\n",
        "car.info()\n",
        "car.change_gear(5)"
      ],
      "metadata": {
        "colab": {
          "base_uri": "https://localhost:8080/"
        },
        "id": "VFbfTN4hTtWR",
        "outputId": "183c25a4-fd29-4f40-e44a-b77109b134c9"
      },
      "execution_count": null,
      "outputs": [
        {
          "output_type": "stream",
          "name": "stdout",
          "text": [
            "BMW X1 Black 35000\n",
            "BMW X1 change gear to number 5\n"
          ]
        }
      ]
    },
    {
      "cell_type": "markdown",
      "source": [
        "The built-in iter() function takes an arbitrary object and tries to return an iterator that will return the object’s contents or elements\n"
      ],
      "metadata": {
        "id": "qW0prgoVWZVp"
      }
    },
    {
      "cell_type": "code",
      "source": [
        "l=[1,2,3]\n",
        "it=iter(l)\n",
        "it.__next__()"
      ],
      "metadata": {
        "colab": {
          "base_uri": "https://localhost:8080/"
        },
        "id": "sGT5x83IVClC",
        "outputId": "c611fd86-0afe-4774-b8ec-90e214dffb0d"
      },
      "execution_count": null,
      "outputs": [
        {
          "output_type": "execute_result",
          "data": {
            "text/plain": [
              "1"
            ]
          },
          "metadata": {},
          "execution_count": 13
        }
      ]
    },
    {
      "cell_type": "code",
      "source": [
        "next(it)"
      ],
      "metadata": {
        "colab": {
          "base_uri": "https://localhost:8080/"
        },
        "id": "fGn0iNTGWUkB",
        "outputId": "e27bc99b-fc3d-4bb9-86ba-b89684832719"
      },
      "execution_count": null,
      "outputs": [
        {
          "output_type": "execute_result",
          "data": {
            "text/plain": [
              "2"
            ]
          },
          "metadata": {},
          "execution_count": 14
        }
      ]
    },
    {
      "cell_type": "code",
      "source": [
        "next(it)"
      ],
      "metadata": {
        "colab": {
          "base_uri": "https://localhost:8080/"
        },
        "id": "NyV_CGr4WfJJ",
        "outputId": "450ce67d-f632-49f2-fe69-1cc4667ae891"
      },
      "execution_count": null,
      "outputs": [
        {
          "output_type": "execute_result",
          "data": {
            "text/plain": [
              "3"
            ]
          },
          "metadata": {},
          "execution_count": 15
        }
      ]
    },
    {
      "cell_type": "code",
      "source": [
        "L = [1, 2, 3]\n",
        "iterator = iter(L)\n",
        "\n",
        "t = tuple(iterator)\n",
        "t"
      ],
      "metadata": {
        "colab": {
          "base_uri": "https://localhost:8080/"
        },
        "id": "YE8v-piwWtYJ",
        "outputId": "689d13af-fab2-44b6-f1d6-116063ebc088"
      },
      "execution_count": null,
      "outputs": [
        {
          "output_type": "execute_result",
          "data": {
            "text/plain": [
              "(1, 2, 3)"
            ]
          },
          "metadata": {},
          "execution_count": 16
        }
      ]
    },
    {
      "cell_type": "code",
      "source": [
        "L = [1, 2, 3]\n",
        "iterator = iter(L)\n",
        "a, b, c = iterator\n",
        "a, b, c"
      ],
      "metadata": {
        "colab": {
          "base_uri": "https://localhost:8080/"
        },
        "id": "FvAch_vlWzON",
        "outputId": "b4505808-17df-4293-f598-65e38226a45a"
      },
      "execution_count": null,
      "outputs": [
        {
          "output_type": "execute_result",
          "data": {
            "text/plain": [
              "(1, 2, 3)"
            ]
          },
          "metadata": {},
          "execution_count": 17
        }
      ]
    },
    {
      "cell_type": "code",
      "source": [
        "m = {'Jan': 1, 'Feb': 2, 'Mar': 3, 'Apr': 4, 'May': 5, 'Jun': 6,\n",
        "\n",
        "'Jul': 7, 'Aug': 8, 'Sep': 9, 'Oct': 10, 'Nov': 11, 'Dec': 12}\n",
        "\n",
        "for key in m:\n",
        "    print(key, m[key]) # Indented this line to be within the for loop"
      ],
      "metadata": {
        "colab": {
          "base_uri": "https://localhost:8080/"
        },
        "id": "Gt-U0YMbXAQ5",
        "outputId": "a72c9efa-3d3d-452d-ca51-6222b0ce8015"
      },
      "execution_count": null,
      "outputs": [
        {
          "output_type": "stream",
          "name": "stdout",
          "text": [
            "Jan 1\n",
            "Feb 2\n",
            "Mar 3\n",
            "Apr 4\n",
            "May 5\n",
            "Jun 6\n",
            "Jul 7\n",
            "Aug 8\n",
            "Sep 9\n",
            "Oct 10\n",
            "Nov 11\n",
            "Dec 12\n"
          ]
        }
      ]
    },
    {
      "cell_type": "code",
      "source": [
        "L = [('Italy', 'Rome'), ('France', 'Paris'), ('US', 'Washington DC')]\n",
        "dict(iter(L))"
      ],
      "metadata": {
        "colab": {
          "base_uri": "https://localhost:8080/"
        },
        "id": "zG6d51ooXT-R",
        "outputId": "216941ce-0d0a-41d3-f3bc-148e08109a83"
      },
      "execution_count": null,
      "outputs": [
        {
          "output_type": "execute_result",
          "data": {
            "text/plain": [
              "{'Italy': 'Rome', 'France': 'Paris', 'US': 'Washington DC'}"
            ]
          },
          "metadata": {},
          "execution_count": 20
        }
      ]
    },
    {
      "cell_type": "code",
      "source": [
        "s={6,7,8,9,13}\n",
        "for i in s:\n",
        "    print(i)"
      ],
      "metadata": {
        "colab": {
          "base_uri": "https://localhost:8080/"
        },
        "id": "B7ux6GM0XZY6",
        "outputId": "e96d6a06-5cd2-44d0-9419-7adab7f0ec3d"
      },
      "execution_count": null,
      "outputs": [
        {
          "output_type": "stream",
          "name": "stdout",
          "text": [
            "6\n",
            "7\n",
            "8\n",
            "9\n",
            "13\n"
          ]
        }
      ]
    },
    {
      "cell_type": "code",
      "source": [
        "seq1 = 'abc'\n",
        "seq2 = (1, 2, 3)\n",
        "[(x, y) for x in seq1 for y in seq2]"
      ],
      "metadata": {
        "colab": {
          "base_uri": "https://localhost:8080/"
        },
        "id": "ff4BoPzMXz3B",
        "outputId": "39e166eb-ac89-4fdf-a325-0f4e9f2b88f2"
      },
      "execution_count": null,
      "outputs": [
        {
          "output_type": "execute_result",
          "data": {
            "text/plain": [
              "[('a', 1),\n",
              " ('a', 2),\n",
              " ('a', 3),\n",
              " ('b', 1),\n",
              " ('b', 2),\n",
              " ('b', 3),\n",
              " ('c', 1),\n",
              " ('c', 2),\n",
              " ('c', 3)]"
            ]
          },
          "metadata": {},
          "execution_count": 22
        }
      ]
    },
    {
      "cell_type": "code",
      "source": [
        "# Define the generator function\n",
        "def generate_ints(n):\n",
        "    for i in range(1, n + 1):\n",
        "        yield i\n",
        "\n",
        "gen = generate_ints(3)\n",
        "\n",
        "print(next(gen))\n",
        "# Expected output: 1\n",
        "print(next(gen))\n",
        "# Expected output: 2\n",
        "print(next(gen))\n",
        "# Expected output: 3\n",
        "try:\n",
        "    print(next(gen))\n",
        "except StopIteration:\n",
        "    print(\"StopIteration exception\")\n",
        "# Expected output: StopIteration exception"
      ],
      "metadata": {
        "colab": {
          "base_uri": "https://localhost:8080/"
        },
        "id": "o2Hx1hweYR3Z",
        "outputId": "37d2b267-3e60-48ae-fb41-9b1a0f978f7a"
      },
      "execution_count": null,
      "outputs": [
        {
          "output_type": "stream",
          "name": "stdout",
          "text": [
            "1\n",
            "2\n",
            "3\n",
            "StopIteration exception\n"
          ]
        }
      ]
    },
    {
      "cell_type": "code",
      "source": [
        "import random\n",
        " # Generate 8 random numbers between [0, 10000)\n",
        "rand_list = random.sample(range(10000), 8)\n",
        "rand_list"
      ],
      "metadata": {
        "colab": {
          "base_uri": "https://localhost:8080/"
        },
        "id": "D2-3wXikYuG4",
        "outputId": "1d3027a7-c8a1-4f70-cda4-c6c2602823fb"
      },
      "execution_count": null,
      "outputs": [
        {
          "output_type": "execute_result",
          "data": {
            "text/plain": [
              "[3786, 3582, 4643, 5023, 1902, 1228, 1397, 648]"
            ]
          },
          "metadata": {},
          "execution_count": 29
        }
      ]
    },
    {
      "cell_type": "code",
      "source": [
        "sorted(rand_list)"
      ],
      "metadata": {
        "colab": {
          "base_uri": "https://localhost:8080/"
        },
        "id": "lOcbFKBOY0xp",
        "outputId": "d47f3894-44a4-4a0d-c0ea-d0c4ec91a918"
      },
      "execution_count": null,
      "outputs": [
        {
          "output_type": "execute_result",
          "data": {
            "text/plain": [
              "[648, 1228, 1397, 1902, 3582, 3786, 4643, 5023]"
            ]
          },
          "metadata": {},
          "execution_count": 31
        }
      ]
    },
    {
      "cell_type": "code",
      "source": [
        "sorted(rand_list, reverse=True)"
      ],
      "metadata": {
        "colab": {
          "base_uri": "https://localhost:8080/"
        },
        "id": "EcU2Ax_HY5w5",
        "outputId": "adfeac60-de18-4240-a020-37ec69db9e97"
      },
      "execution_count": null,
      "outputs": [
        {
          "output_type": "execute_result",
          "data": {
            "text/plain": [
              "[5023, 4643, 3786, 3582, 1902, 1397, 1228, 648]"
            ]
          },
          "metadata": {},
          "execution_count": 32
        }
      ]
    },
    {
      "cell_type": "code",
      "source": [
        "any([0, 1, 0])"
      ],
      "metadata": {
        "colab": {
          "base_uri": "https://localhost:8080/"
        },
        "id": "UVmcDX_uZDYh",
        "outputId": "369d0a14-e085-41fa-c9e9-ad6a82e08224"
      },
      "execution_count": null,
      "outputs": [
        {
          "output_type": "execute_result",
          "data": {
            "text/plain": [
              "True"
            ]
          },
          "metadata": {},
          "execution_count": 33
        }
      ]
    },
    {
      "cell_type": "code",
      "source": [
        "any([1, 1, 1])"
      ],
      "metadata": {
        "colab": {
          "base_uri": "https://localhost:8080/"
        },
        "id": "G8uvAkBcZIAp",
        "outputId": "d1905244-fa3e-4a64-8106-16d53cc80271"
      },
      "execution_count": null,
      "outputs": [
        {
          "output_type": "execute_result",
          "data": {
            "text/plain": [
              "True"
            ]
          },
          "metadata": {},
          "execution_count": 34
        }
      ]
    },
    {
      "cell_type": "code",
      "source": [
        "all([0, 1, 0])"
      ],
      "metadata": {
        "colab": {
          "base_uri": "https://localhost:8080/"
        },
        "id": "qJbWdJhnZKdp",
        "outputId": "d52a1c1a-055a-41ff-cb7a-332e2e2b38aa"
      },
      "execution_count": null,
      "outputs": [
        {
          "output_type": "execute_result",
          "data": {
            "text/plain": [
              "False"
            ]
          },
          "metadata": {},
          "execution_count": 35
        }
      ]
    },
    {
      "cell_type": "code",
      "source": [
        "all([0, 0, 0])"
      ],
      "metadata": {
        "colab": {
          "base_uri": "https://localhost:8080/"
        },
        "id": "Ra9vEG-bZNSh",
        "outputId": "341ffdaf-2437-4dd5-eb9d-124a31c6bb25"
      },
      "execution_count": null,
      "outputs": [
        {
          "output_type": "execute_result",
          "data": {
            "text/plain": [
              "False"
            ]
          },
          "metadata": {},
          "execution_count": 37
        }
      ]
    },
    {
      "cell_type": "code",
      "source": [
        "all([1, 1, 1])"
      ],
      "metadata": {
        "colab": {
          "base_uri": "https://localhost:8080/"
        },
        "id": "cAhf73q2ZYeI",
        "outputId": "6184ed1a-47c4-4f35-db83-eb11ee0f830f"
      },
      "execution_count": null,
      "outputs": [
        {
          "output_type": "execute_result",
          "data": {
            "text/plain": [
              "True"
            ]
          },
          "metadata": {},
          "execution_count": 38
        }
      ]
    },
    {
      "cell_type": "code",
      "source": [
        "zip(['a', 'b', 'c'], (1, 2, 3))"
      ],
      "metadata": {
        "colab": {
          "base_uri": "https://localhost:8080/"
        },
        "id": "-CSYJNOHZsrp",
        "outputId": "c1c78240-eb82-4fe7-aa40-781b2270f4c4"
      },
      "execution_count": null,
      "outputs": [
        {
          "output_type": "execute_result",
          "data": {
            "text/plain": [
              "<zip at 0x7c6976e0c800>"
            ]
          },
          "metadata": {},
          "execution_count": 39
        }
      ]
    },
    {
      "cell_type": "code",
      "source": [
        "import itertools\n",
        "\n",
        "for i in itertools.count(1):\n",
        "  if i > 10:\n",
        "    break\n",
        "  print(i)"
      ],
      "metadata": {
        "colab": {
          "base_uri": "https://localhost:8080/"
        },
        "id": "TIwwxZUBcFFZ",
        "outputId": "7a29b919-d5a6-4127-93e9-693b115b94e3"
      },
      "execution_count": null,
      "outputs": [
        {
          "output_type": "stream",
          "name": "stdout",
          "text": [
            "1\n",
            "2\n",
            "3\n",
            "4\n",
            "5\n",
            "6\n",
            "7\n",
            "8\n",
            "9\n",
            "10\n"
          ]
        }
      ]
    },
    {
      "cell_type": "code",
      "source": [
        "import itertools\n",
        "list(itertools.islice(itertools.cycle([1, 2, 3, 4, 5]), 10))"
      ],
      "metadata": {
        "colab": {
          "base_uri": "https://localhost:8080/"
        },
        "id": "h__pqw-0cpcx",
        "outputId": "4ef54d33-6b01-4403-89d8-189c25180b55"
      },
      "execution_count": null,
      "outputs": [
        {
          "output_type": "execute_result",
          "data": {
            "text/plain": [
              "[1, 2, 3, 4, 5, 1, 2, 3, 4, 5]"
            ]
          },
          "metadata": {},
          "execution_count": 57
        }
      ]
    },
    {
      "cell_type": "code",
      "source": [
        "import itertools\n",
        "\n",
        "itertools.cycle([1, 2, 3, 4, 5])\n",
        "# This will create an iterator that cycles through the list indefinitely.\n",
        "# To see the output, you would need to iterate over it.\n",
        "# For example:\n",
        "# for i in itertools.cycle([1, 2, 3, 4, 5]):\n",
        "#     print(i)"
      ],
      "metadata": {
        "colab": {
          "base_uri": "https://localhost:8080/"
        },
        "id": "vTRubnFHczWJ",
        "outputId": "3bd1e217-fb2a-4316-e629-886dd7ed0026"
      },
      "execution_count": null,
      "outputs": [
        {
          "output_type": "execute_result",
          "data": {
            "text/plain": [
              "<itertools.cycle at 0x7c6998d1cac0>"
            ]
          },
          "metadata": {},
          "execution_count": 59
        }
      ]
    },
    {
      "cell_type": "code",
      "source": [
        "import itertools\n",
        "\n",
        "list(itertools.repeat('abc', 10))"
      ],
      "metadata": {
        "colab": {
          "base_uri": "https://localhost:8080/"
        },
        "id": "RqiRANvec5la",
        "outputId": "90d48a71-84a6-40a9-c74f-964e4743affe"
      },
      "execution_count": null,
      "outputs": [
        {
          "output_type": "execute_result",
          "data": {
            "text/plain": [
              "['abc', 'abc', 'abc', 'abc', 'abc', 'abc', 'abc', 'abc', 'abc', 'abc']"
            ]
          },
          "metadata": {},
          "execution_count": 61
        }
      ]
    },
    {
      "cell_type": "code",
      "source": [
        "#numpy\n",
        "import numpy as np\n",
        "x=np.random.randint(10,30,6)\n",
        "print(x)"
      ],
      "metadata": {
        "colab": {
          "base_uri": "https://localhost:8080/"
        },
        "id": "Ocd57dAwjZ-C",
        "outputId": "cf0f839c-b150-4570-d4b5-ba2cc9c9d13e"
      },
      "execution_count": null,
      "outputs": [
        {
          "output_type": "stream",
          "name": "stdout",
          "text": [
            "[28 22 19 28 20 27]\n"
          ]
        }
      ]
    },
    {
      "cell_type": "code",
      "source": [
        "import numpy as np\n",
        "x=np.random.randint(0,10,40)\n",
        "print(x)"
      ],
      "metadata": {
        "id": "xnIvQ7l5j9ky",
        "colab": {
          "base_uri": "https://localhost:8080/"
        },
        "outputId": "39570852-df61-46ad-9329-07dab7ab5a3c"
      },
      "execution_count": null,
      "outputs": [
        {
          "output_type": "stream",
          "name": "stdout",
          "text": [
            "[2 5 2 2 9 0 5 5 5 0 2 3 5 8 7 8 0 4 7 1 7 2 8 1 8 2 6 2 6 6 3 6 1 0 8 7 7\n",
            " 7 2 6]\n"
          ]
        }
      ]
    },
    {
      "cell_type": "code",
      "source": [
        "# a.Using List or Tuple\n",
        "import numpy as np\n",
        "a = np.array([2,3,4])   #using list, 1-D Array\n",
        "print(type(a))          #<type ‘numpy.ndarray’>"
      ],
      "metadata": {
        "colab": {
          "base_uri": "https://localhost:8080/"
        },
        "id": "EnZTPnwGmECa",
        "outputId": "471a2c94-b896-4d91-e40d-75428e4c4bb6"
      },
      "execution_count": null,
      "outputs": [
        {
          "output_type": "stream",
          "name": "stdout",
          "text": [
            "<class 'numpy.ndarray'>\n"
          ]
        }
      ]
    },
    {
      "cell_type": "code",
      "source": [
        "# b.Creating 2D array\n",
        "a = np.array([[1,3,5],[2,4,6]])\n",
        "print(a[0][0])"
      ],
      "metadata": {
        "colab": {
          "base_uri": "https://localhost:8080/"
        },
        "id": "VU6rBh8omFb6",
        "outputId": "803e41cc-fec6-4037-fa2f-143ba3540bf2"
      },
      "execution_count": null,
      "outputs": [
        {
          "output_type": "stream",
          "name": "stdout",
          "text": [
            "1\n"
          ]
        }
      ]
    },
    {
      "cell_type": "code",
      "source": [
        "# c.Defining the type of array\n",
        "a = np.array([[1,2],[3,4]],dtype=complex)\n",
        "print(type(a))"
      ],
      "metadata": {
        "colab": {
          "base_uri": "https://localhost:8080/"
        },
        "id": "J9IVIPhzmLC6",
        "outputId": "5aea48d9-957a-4f19-9901-4b03186feee1"
      },
      "execution_count": null,
      "outputs": [
        {
          "output_type": "stream",
          "name": "stdout",
          "text": [
            "<class 'numpy.ndarray'>\n"
          ]
        }
      ]
    },
    {
      "cell_type": "code",
      "source": [
        "# d.Methods to create arrays with placeholder values\n",
        "arr = np.zeros((3,3),int)\n",
        "print(arr)"
      ],
      "metadata": {
        "colab": {
          "base_uri": "https://localhost:8080/"
        },
        "id": "LfFTn-p3mP9J",
        "outputId": "f8a448cb-689f-480f-ab93-71df36a2dc77"
      },
      "execution_count": null,
      "outputs": [
        {
          "output_type": "stream",
          "name": "stdout",
          "text": [
            "[[0 0 0]\n",
            " [0 0 0]\n",
            " [0 0 0]]\n"
          ]
        }
      ]
    },
    {
      "cell_type": "code",
      "source": [
        "arr= np.ones((3,3),int)\n",
        "print(arr)"
      ],
      "metadata": {
        "colab": {
          "base_uri": "https://localhost:8080/"
        },
        "id": "VXIk0HEEmSUZ",
        "outputId": "59a1294e-09d3-4813-96ca-dc75fcda19e0"
      },
      "execution_count": null,
      "outputs": [
        {
          "output_type": "stream",
          "name": "stdout",
          "text": [
            "[[1 1 1]\n",
            " [1 1 1]\n",
            " [1 1 1]]\n"
          ]
        }
      ]
    },
    {
      "cell_type": "code",
      "source": [
        "arr= np.empty((3,4))\n",
        "print(arr)                #uninitialized garbage value"
      ],
      "metadata": {
        "colab": {
          "base_uri": "https://localhost:8080/"
        },
        "id": "b3Oezym9mUlB",
        "outputId": "4119679b-b98d-4321-d108-74af744220e3"
      },
      "execution_count": null,
      "outputs": [
        {
          "output_type": "stream",
          "name": "stdout",
          "text": [
            "[[6.75907739e-310 0.00000000e+000 0.00000000e+000 0.00000000e+000]\n",
            " [0.00000000e+000 0.00000000e+000 0.00000000e+000 0.00000000e+000]\n",
            " [0.00000000e+000 0.00000000e+000 0.00000000e+000 0.00000000e+000]]\n"
          ]
        }
      ]
    },
    {
      "cell_type": "code",
      "source": [
        "# e.Using arange function\n",
        "arr= np.arange(10, 30, 5)\n",
        "print(arr)"
      ],
      "metadata": {
        "colab": {
          "base_uri": "https://localhost:8080/"
        },
        "id": "YTahgB6PmYER",
        "outputId": "fc69269a-eae2-487f-f946-448c9ae5439b"
      },
      "execution_count": null,
      "outputs": [
        {
          "output_type": "stream",
          "name": "stdout",
          "text": [
            "[10 15 20 25]\n"
          ]
        }
      ]
    },
    {
      "cell_type": "code",
      "source": [
        "arr= np.arange(0, 2, 0.3)\n",
        "print(arr)"
      ],
      "metadata": {
        "colab": {
          "base_uri": "https://localhost:8080/"
        },
        "id": "3xANBibAma3a",
        "outputId": "c2dc2927-9a3c-474b-a785-9b0ecfa9e1e2"
      },
      "execution_count": null,
      "outputs": [
        {
          "output_type": "stream",
          "name": "stdout",
          "text": [
            "[0.  0.3 0.6 0.9 1.2 1.5 1.8]\n"
          ]
        }
      ]
    },
    {
      "cell_type": "code",
      "source": [
        "# f.To create ‘n’ numbers from the defined range.\n",
        "arr = np.linspace(0, 2, 9)\n",
        "print(arr)"
      ],
      "metadata": {
        "colab": {
          "base_uri": "https://localhost:8080/"
        },
        "id": "EgfO6Mt5mejS",
        "outputId": "0c947fb6-7260-4f15-ff8b-29bfd67ee3fb"
      },
      "execution_count": null,
      "outputs": [
        {
          "output_type": "stream",
          "name": "stdout",
          "text": [
            "[0.   0.25 0.5  0.75 1.   1.25 1.5  1.75 2.  ]\n"
          ]
        }
      ]
    },
    {
      "cell_type": "code",
      "source": [
        "# g.To create Identity Matrix\n",
        "arr = np.identity(3, int)\n",
        "print(arr)"
      ],
      "metadata": {
        "colab": {
          "base_uri": "https://localhost:8080/"
        },
        "id": "i_97gN97mhmZ",
        "outputId": "5a9cc143-414e-4e56-8230-9f7f117a83ea"
      },
      "execution_count": null,
      "outputs": [
        {
          "output_type": "stream",
          "name": "stdout",
          "text": [
            "[[1 0 0]\n",
            " [0 1 0]\n",
            " [0 0 1]]\n"
          ]
        }
      ]
    },
    {
      "cell_type": "code",
      "source": [
        "#To concatenate arrays\n",
        "a = np.array([1,2])\n",
        "b = np.array([3,4])\n",
        "c = np.array([5,6])\n",
        "print(np.concatenate([a,b,c]))"
      ],
      "metadata": {
        "colab": {
          "base_uri": "https://localhost:8080/"
        },
        "id": "2_2iyc4emmu5",
        "outputId": "9d884cf1-8cc2-4144-ed02-dc3d03627ae3"
      },
      "execution_count": null,
      "outputs": [
        {
          "output_type": "stream",
          "name": "stdout",
          "text": [
            "[1 2 3 4 5 6]\n"
          ]
        }
      ]
    },
    {
      "cell_type": "code",
      "source": [
        "# To concatenate arrays (row-wise / col-wise)\n",
        "a = np.array([[1, 2], [3, 4]])\n",
        "b = np.array([[5, 6], [7, 8]])\n",
        "np.concatenate((a, b), axis=0)          #[[1,2][3,4][5,6][7,8]]\n"
      ],
      "metadata": {
        "colab": {
          "base_uri": "https://localhost:8080/"
        },
        "id": "6sVBq5vOmqox",
        "outputId": "0490fdbd-157c-4010-bdc2-3c875d095e26"
      },
      "execution_count": null,
      "outputs": [
        {
          "output_type": "execute_result",
          "data": {
            "text/plain": [
              "array([[1, 2],\n",
              "       [3, 4],\n",
              "       [5, 6],\n",
              "       [7, 8]])"
            ]
          },
          "metadata": {},
          "execution_count": 80
        }
      ]
    },
    {
      "cell_type": "code",
      "source": [
        "np.concatenate((a, b), axis=1)          #[[1,2,5,6], [3,4,7,8]]"
      ],
      "metadata": {
        "colab": {
          "base_uri": "https://localhost:8080/"
        },
        "id": "ZbvwPbesmwkx",
        "outputId": "33e4571e-721c-4f29-e0f6-9636d5b94be2"
      },
      "execution_count": null,
      "outputs": [
        {
          "output_type": "execute_result",
          "data": {
            "text/plain": [
              "array([[1, 2, 5, 6],\n",
              "       [3, 4, 7, 8]])"
            ]
          },
          "metadata": {},
          "execution_count": 81
        }
      ]
    },
    {
      "cell_type": "code",
      "source": [
        "# To find index of maximum and minimum element:\n",
        "A = np.array([2, 1, 4, 9])\n",
        "print(A.argmin())\n",
        "print(A.argmax())"
      ],
      "metadata": {
        "colab": {
          "base_uri": "https://localhost:8080/"
        },
        "id": "n6frFo47myxR",
        "outputId": "5c783f02-470a-44bc-b4c3-9d00d48042c4"
      },
      "execution_count": null,
      "outputs": [
        {
          "output_type": "stream",
          "name": "stdout",
          "text": [
            "1\n",
            "3\n"
          ]
        }
      ]
    },
    {
      "cell_type": "code",
      "source": [
        "# for multidimensional array, we have to provide axis value also.\n",
        "A = np.array([[3, 2], [5, 6]])\n",
        "print(A.argmin(axis=0))                 #[0, 0]\n",
        "print(A.argmin(axis=1))                 #[1, 0]\n",
        "print(A.argmax(axis=0))                 #[1, 1]\n",
        "print(A.argmax(axis=1))                 #[0, 1]"
      ],
      "metadata": {
        "colab": {
          "base_uri": "https://localhost:8080/"
        },
        "id": "KuNaQts6m00i",
        "outputId": "f4a90b4f-acae-47ef-82ed-fc1a3a612275"
      },
      "execution_count": null,
      "outputs": [
        {
          "output_type": "stream",
          "name": "stdout",
          "text": [
            "[0 0]\n",
            "[1 0]\n",
            "[1 1]\n",
            "[0 1]\n"
          ]
        }
      ]
    },
    {
      "cell_type": "code",
      "source": [
        "# Sorting of array:\n",
        "A = np.array([6, 2, 5, -1, 0])\n",
        "print(np.sort(A))#[-1, 0, 2, 5, 6]"
      ],
      "metadata": {
        "colab": {
          "base_uri": "https://localhost:8080/"
        },
        "id": "MANTMNemm3e4",
        "outputId": "f423e78c-eb67-4d9d-a386-79ab79334f66"
      },
      "execution_count": null,
      "outputs": [
        {
          "output_type": "stream",
          "name": "stdout",
          "text": [
            "[-1  0  2  5  6]\n"
          ]
        }
      ]
    },
    {
      "cell_type": "code",
      "source": [
        "# Unique elements:\n",
        "A = np.array([1, 1, 4, 5, 5, 7])\n",
        "print(np.unique(A))#[1, 4, 5, 7]"
      ],
      "metadata": {
        "colab": {
          "base_uri": "https://localhost:8080/"
        },
        "id": "YW2vlABIm63Q",
        "outputId": "fb2738fa-b3fc-45dd-8263-3d07c66337ef"
      },
      "execution_count": null,
      "outputs": [
        {
          "output_type": "stream",
          "name": "stdout",
          "text": [
            "[1 4 5 7]\n"
          ]
        }
      ]
    },
    {
      "cell_type": "code",
      "source": [
        "# Diagonal elements of 2D array:\n",
        "A = np.array([[1, 2], [3, 4]])\n",
        "print(A.diagonal())#[1, 4]"
      ],
      "metadata": {
        "colab": {
          "base_uri": "https://localhost:8080/"
        },
        "id": "7DpLPND2m9tJ",
        "outputId": "86bf5e20-70f7-49d0-82a0-b6473b9d2f59"
      },
      "execution_count": null,
      "outputs": [
        {
          "output_type": "stream",
          "name": "stdout",
          "text": [
            "[1 4]\n"
          ]
        }
      ]
    },
    {
      "cell_type": "code",
      "source": [
        "# Indexing/Slicing:\n",
        "A = np.arange(10) ** 3\n",
        "print(A)\n",
        "\n",
        "A[2:5]"
      ],
      "metadata": {
        "colab": {
          "base_uri": "https://localhost:8080/"
        },
        "id": "ZJNgXDCgm_zS",
        "outputId": "6fe6ea0e-8543-4b9b-b6e1-3fc3cf01a3b9"
      },
      "execution_count": null,
      "outputs": [
        {
          "output_type": "stream",
          "name": "stdout",
          "text": [
            "[  0   1   8  27  64 125 216 343 512 729]\n"
          ]
        },
        {
          "output_type": "execute_result",
          "data": {
            "text/plain": [
              "array([ 8, 27, 64])"
            ]
          },
          "metadata": {},
          "execution_count": 87
        }
      ]
    },
    {
      "cell_type": "code",
      "source": [
        "A[0: 6: 2]= -100\n",
        "print(A)"
      ],
      "metadata": {
        "colab": {
          "base_uri": "https://localhost:8080/"
        },
        "id": "j80wEVmxnC6I",
        "outputId": "92fab17d-0535-4070-a1ae-6c507cda695f"
      },
      "execution_count": null,
      "outputs": [
        {
          "output_type": "stream",
          "name": "stdout",
          "text": [
            "[-100    1 -100   27 -100  125  216  343  512  729]\n"
          ]
        }
      ]
    },
    {
      "cell_type": "code",
      "source": [
        "A[ : :-1]"
      ],
      "metadata": {
        "id": "MvYlWNJbnFOA"
      },
      "execution_count": null,
      "outputs": []
    },
    {
      "cell_type": "code",
      "source": [
        "# Transpose:\n",
        "A = np.array([[1, 2, 3], [4, 5, 6], [7, 8, 9]])\n",
        "print(A.transpose())"
      ],
      "metadata": {
        "colab": {
          "base_uri": "https://localhost:8080/"
        },
        "id": "CPQltdSXnIeJ",
        "outputId": "21c021f2-7e40-4ed0-da9e-8a337083cd24"
      },
      "execution_count": null,
      "outputs": [
        {
          "output_type": "stream",
          "name": "stdout",
          "text": [
            "[[1 4 7]\n",
            " [2 5 8]\n",
            " [3 6 9]]\n"
          ]
        }
      ]
    }
  ],
  "metadata": {
    "colab": {
      "provenance": [],
      "authorship_tag": "ABX9TyN0GyoynBUmXVJxlnOS8aK1",
      "include_colab_link": true
    },
    "kernelspec": {
      "display_name": "Python 3",
      "name": "python3"
    },
    "language_info": {
      "name": "python"
    }
  },
  "nbformat": 4,
  "nbformat_minor": 0
}