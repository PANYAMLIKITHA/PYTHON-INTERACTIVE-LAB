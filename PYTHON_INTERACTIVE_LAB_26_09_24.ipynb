{
  "cells": [
    {
      "cell_type": "markdown",
      "metadata": {
        "id": "view-in-github",
        "colab_type": "text"
      },
      "source": [
        "<a href=\"https://colab.research.google.com/github/PANYAMLIKITHA/PYTHON-INTERACTIVE-LAB/blob/main/PYTHON_INTERACTIVE_LAB_26_09_24.ipynb\" target=\"_parent\"><img src=\"https://colab.research.google.com/assets/colab-badge.svg\" alt=\"Open In Colab\"/></a>"
      ]
    },
    {
      "cell_type": "markdown",
      "metadata": {
        "id": "QqAqGyj73u6h"
      },
      "source": [
        "# **File Handling**\n",
        "\n",
        "A file is a collections of records.\n",
        "\n"
      ]
    },
    {
      "cell_type": "markdown",
      "metadata": {
        "id": "OwHB8yyI4TXC"
      },
      "source": [
        "Various operations carried out on a file are:\n",
        "\n",
        "*   Creating a file\n",
        "*   Opening a file\n",
        "*   Reading from a file\n",
        "*   Writing to a file\n",
        "*   Closing a file\n"
      ]
    },
    {
      "cell_type": "code",
      "execution_count": 26,
      "metadata": {
        "id": "Yj7VjIx03sYu"
      },
      "outputs": [],
      "source": [
        "F1 = open(\"Demo.txt\",\"r\") #Open File from Current Directory"
      ]
    },
    {
      "cell_type": "markdown",
      "metadata": {
        "id": "zFXQ5Idi-Kv9"
      },
      "source": [
        "Write a program to write the sentences given below to the file **Demo1.txt**\n"
      ]
    },
    {
      "cell_type": "code",
      "execution_count": null,
      "metadata": {
        "id": "xSklWTbQ99C1"
      },
      "outputs": [],
      "source": [
        "def main():\n",
        "  obj1 = open(\"Demo1.txt\", \"w\") #Opens a file in Write mode\n",
        "  obj1.write(\"Hello, How are you? \\n\")\n",
        "  obj1.write(\"Welcome to The File Handling. \\n\")\n",
        "  obj1.write(\"Enjoy the session. \\n\")\n",
        "\n",
        "\n",
        "main()"
      ]
    },
    {
      "cell_type": "markdown",
      "metadata": {
        "id": "fH_q68Rb-8IL"
      },
      "source": [
        "***Closing a File***\n",
        "\n",
        "Fileobject.close()"
      ]
    },
    {
      "cell_type": "code",
      "execution_count": null,
      "metadata": {
        "id": "XdTVZ1dG-IbX"
      },
      "outputs": [],
      "source": [
        "fp1 = open(\"Demo1.txt\",\"w\")"
      ]
    },
    {
      "cell_type": "code",
      "execution_count": null,
      "metadata": {
        "id": "EmYi1Bsv_Xxh"
      },
      "outputs": [],
      "source": [
        "fp1.close()\n"
      ]
    },
    {
      "cell_type": "markdown",
      "metadata": {
        "id": "gy44JNKk_eWI"
      },
      "source": [
        "Write numbers from 1 to 20 to the output file **WriteNumbers.txt**"
      ]
    },
    {
      "cell_type": "code",
      "execution_count": null,
      "metadata": {
        "id": "aud3qXKq_eAB"
      },
      "outputs": [],
      "source": [
        "def main():\n",
        "  obj1 = open(\"WriteNumbers.txt\",\"w\") #Open File in Write mode\n",
        "  for x in range(1,21):   #Iterates from 1 to 20\n",
        "    x=str(x)              #Convert Number to String\n",
        "    obj1.write(x)         #Write Number to a output file\n",
        "    obj1.write(\"\\n\")      #Space to separate Numbers\n",
        "  obj1.close()            #Close File\n",
        "\n",
        "main()"
      ]
    },
    {
      "cell_type": "markdown",
      "metadata": {
        "id": "-lRrPCfzAivv"
      },
      "source": [
        "Generate 50 numbers within a range 500 to 1000 and write them to file **WriteNumRandom.txt**"
      ]
    },
    {
      "cell_type": "code",
      "execution_count": null,
      "metadata": {
        "id": "346raxdM_xFU"
      },
      "outputs": [],
      "source": [
        "from random import randint\n",
        "fp1 = open(\"WriteNumRandom.txt\",\"w\")\n",
        "for x in range(51):\n",
        "  x = randint(500,1000)\n",
        "  x = str(x)\n",
        "  fp1.write(x + \" \")\n",
        "\n",
        "fp1.close()"
      ]
    },
    {
      "cell_type": "markdown",
      "metadata": {
        "id": "5fhLjY8yCNPY"
      },
      "source": [
        "Write a program to read the content of a file Demo1.txt using the read() method."
      ]
    },
    {
      "cell_type": "code",
      "execution_count": null,
      "metadata": {
        "colab": {
          "base_uri": "https://localhost:8080/"
        },
        "id": "VGsGxa4yCVRR",
        "outputId": "f650cea0-de06-4287-da47-627460579b76"
      },
      "outputs": [
        {
          "name": "stdout",
          "output_type": "stream",
          "text": [
            "\n"
          ]
        }
      ],
      "source": [
        "fp = open(\"Demo1.txt\",\"r\")\n",
        "text = fp.read()\n",
        "print(text)"
      ]
    },
    {
      "cell_type": "code",
      "execution_count": null,
      "metadata": {
        "id": "BoNLU2aFCqxz"
      },
      "outputs": [],
      "source": [
        "fp = open(\"Demo1.txt\",\"r\")\n",
        "for line in fp:\n",
        "  print(line)"
      ]
    },
    {
      "cell_type": "markdown",
      "metadata": {
        "id": "H9ksC6RCDZH_"
      },
      "source": [
        "Write a program to read the content of the file \"WriteNumbers.txt\""
      ]
    },
    {
      "cell_type": "code",
      "execution_count": null,
      "metadata": {
        "colab": {
          "base_uri": "https://localhost:8080/"
        },
        "id": "GbGCHYgBDgJ9",
        "outputId": "09633ae0-d886-43e6-a92e-2ec08b09e59a"
      },
      "outputs": [
        {
          "name": "stdout",
          "output_type": "stream",
          "text": [
            "1\n",
            "2\n",
            "3\n",
            "4\n",
            "5\n",
            "6\n",
            "7\n",
            "8\n",
            "9\n",
            "10\n",
            "11\n",
            "12\n",
            "13\n",
            "14\n",
            "15\n",
            "16\n",
            "17\n",
            "18\n",
            "19\n",
            "20\n",
            "\n",
            "<class 'str'>\n"
          ]
        }
      ],
      "source": [
        "fp1 = open(\"WriteNumbers.txt\",\"r\")\n",
        "num = fp1.read()\n",
        "print(num)\n",
        "print(type(num))\n"
      ]
    },
    {
      "cell_type": "markdown",
      "metadata": {
        "id": "xr1bXQo_G2CC"
      },
      "source": [
        "Write a program to perform the following operation using seek() and basic file operations.\n"
      ]
    },
    {
      "cell_type": "code",
      "execution_count": null,
      "metadata": {
        "colab": {
          "base_uri": "https://localhost:8080/"
        },
        "id": "WOugCzqBFete",
        "outputId": "95492a7c-0941-467d-e1e6-2634fed49d98"
      },
      "outputs": [
        {
          "name": "stdout",
          "output_type": "stream",
          "text": [
            "Monday\n",
            "Tuesday\n",
            "Wednesday\n",
            "Thursday\n",
            "Friday\n",
            "\n"
          ]
        }
      ],
      "source": [
        "fp1 = open(\"Weekdays.txt\",\"w+\")     #Open file in w+ mode\n",
        "fp1.write(\"Monday\\n\")               #Write to file\n",
        "fp1.write(\"Tuesday\\n\")\n",
        "fp1.write(\"Wednesday\\n\")\n",
        "fp1.write(\"Thursday\\n\")\n",
        "fp1.write(\"Friday\\n\")\n",
        "fp1.seek(0)                         #Set file pointer to start of the file\n",
        "t = fp1.read()                      #Read file from current file pointer till end\n",
        "print(t)"
      ]
    },
    {
      "cell_type": "code",
      "execution_count": null,
      "metadata": {
        "colab": {
          "base_uri": "https://localhost:8080/"
        },
        "id": "HPnzw5h7PfpQ",
        "outputId": "6855de31-0d2d-4ab5-dd41-211408ede6c3"
      },
      "outputs": [
        {
          "name": "stdout",
          "output_type": "stream",
          "text": [
            "Monday\n",
            "Tuesday\n",
            "Wednesday\n",
            "Thursday\n",
            "Friday\n",
            "Saturday\n",
            "Sunday\n",
            "\n"
          ]
        }
      ],
      "source": [
        "fp1.seek(0,2)                     #Move file from current file pointer till end\n",
        "fp1.write('Saturday\\n')           #Write at the end of file\n",
        "fp1.write(\"Sunday\\n\")\n",
        "fp1.seek(0)\n",
        "t = fp1.read()\n",
        "print(t)"
      ]
    },
    {
      "cell_type": "markdown",
      "metadata": {
        "id": "-Ci_uShCwPic"
      },
      "source": [
        "# Exception Handling"
      ]
    },
    {
      "cell_type": "code",
      "execution_count": null,
      "metadata": {
        "colab": {
          "base_uri": "https://localhost:8080/"
        },
        "id": "rj-afYamtEuj",
        "outputId": "32a48c6a-0b3b-44c4-e8e2-b98e0b25086e"
      },
      "outputs": [
        {
          "data": {
            "text/plain": [
              "5"
            ]
          },
          "execution_count": 14,
          "metadata": {},
          "output_type": "execute_result"
        }
      ],
      "source": [
        "2 + int('3') # Change the string '3' to an integer"
      ]
    },
    {
      "cell_type": "code",
      "execution_count": null,
      "metadata": {
        "colab": {
          "background_save": true
        },
        "id": "j0nnI6Nb3Z_7",
        "outputId": "1df197c2-12c5-4c6c-9a96-f758e8ff92f4"
      },
      "outputs": [
        {
          "data": {
            "text/plain": [
              "1"
            ]
          },
          "execution_count": 17,
          "metadata": {},
          "output_type": "execute_result"
        }
      ],
      "source": [
        "lsst = [1,2,3] # Create a list named lsst\n",
        "lsst[0] # Access the first element of the list"
      ]
    },
    {
      "cell_type": "code",
      "execution_count": null,
      "metadata": {
        "id": "hxVphpgx3b7n"
      },
      "outputs": [],
      "source": [
        "import math\n",
        "num = int(input('Enter a number: '))\n",
        "print('The factorial of {0} is {1}'.format(num,math.factorial(num)))"
      ]
    },
    {
      "cell_type": "code",
      "execution_count": null,
      "metadata": {
        "colab": {
          "base_uri": "https://localhost:8080/"
        },
        "id": "2uRvrTKV4mva",
        "outputId": "afeea37b-7bc1-408d-e2de-9cbac8e8f5b0"
      },
      "outputs": [
        {
          "name": "stdout",
          "output_type": "stream",
          "text": [
            "Enter a number: -6\n",
            "Cannot compute factorial for negative number\n"
          ]
        }
      ],
      "source": [
        "import math\n",
        "num = int(input('Enter a number: '))\n",
        "try:\n",
        "  print('The factorial of {0} is {1}'.format(num,math.factorial(num)))\n",
        "except ValueError:\n",
        "  print('Cannot compute factorial for negative number')"
      ]
    },
    {
      "cell_type": "markdown",
      "metadata": {
        "id": "1KMxLgG55iMg"
      },
      "source": [
        "### The program can be recovered from the exception as shown:"
      ]
    },
    {
      "cell_type": "code",
      "execution_count": null,
      "metadata": {
        "colab": {
          "base_uri": "https://localhost:8080/"
        },
        "id": "Tvtcknul5odI",
        "outputId": "e9db31bf-6232-4dff-d97d-3b0aa72f69f2"
      },
      "outputs": [
        {
          "name": "stdout",
          "output_type": "stream",
          "text": [
            "Enter a number: -8\n",
            "Cannot compute factorial for negative number\n",
            "Please RE-ENTER8\n",
            "The factorial of 8 is 40320\n"
          ]
        }
      ],
      "source": [
        "import math\n",
        "\n",
        "num = int(input('Enter a number: '))\n",
        "valid_inp = False\n",
        "\n",
        "while not valid_inp:                  # !F -> T\n",
        "  try:\n",
        "    print('The factorial of {0} is {1}'.format(num,math.factorial(num)))\n",
        "    valid_inp = True\n",
        "\n",
        "  except ValueError:\n",
        "    print('Cannot compute factorial for negative number')\n",
        "    num = int(input('Please RE-ENTER'))"
      ]
    },
    {
      "cell_type": "markdown",
      "metadata": {
        "id": "No0T2NPY79FT"
      },
      "source": [
        "## Handling Exception raised by User defined Functions"
      ]
    },
    {
      "cell_type": "markdown",
      "metadata": {
        "id": "U-lY6jSp95Ai"
      },
      "source": [
        "### Define a function getMonth() to raise the ValueError exception when the user enters an invalid month."
      ]
    },
    {
      "cell_type": "code",
      "execution_count": 25,
      "metadata": {
        "id": "BW6x4WIt-WgG",
        "colab": {
          "base_uri": "https://localhost:8080/"
        },
        "outputId": "7ebbfd64-d591-4781-b21d-13e8de052c08"
      },
      "outputs": [
        {
          "output_type": "stream",
          "name": "stdout",
          "text": [
            "Enter a month (1-12)5\n",
            "5\n"
          ]
        }
      ],
      "source": [
        "def getMonth():\n",
        "  month = int(input('Enter a month (1-12)'))\n",
        "  if month < 1 or month > 12:\n",
        "    raise ValueError('Invalid Month Value')\n",
        "  return month\n",
        "\n",
        "m = getMonth()\n",
        "print(m)"
      ]
    }
  ],
  "metadata": {
    "colab": {
      "provenance": [],
      "include_colab_link": true
    },
    "kernelspec": {
      "display_name": "Python 3",
      "name": "python3"
    },
    "language_info": {
      "name": "python"
    }
  },
  "nbformat": 4,
  "nbformat_minor": 0
}